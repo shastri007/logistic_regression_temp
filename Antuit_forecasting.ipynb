{
 "cells": [
  {
   "cell_type": "markdown",
   "metadata": {},
   "source": [
    "# Promotional Model for Forecasting"
   ]
  },
  {
   "cell_type": "markdown",
   "metadata": {},
   "source": [
    "## Data Description\n",
    "\n",
    "In this dataset you can find the below columns:\n",
    "account_id, product_id, MAG, AG, date_id, promo_flag, promo_discount_perc, base_demand, ordered_units"
   ]
  },
  {
   "cell_type": "markdown",
   "metadata": {},
   "source": [
    "In this sample there is only one account,\n",
    "\n",
    "MAG:highest product hierarchy level \n",
    "\n",
    "AG:next highest prodct level\n",
    "\n",
    "product id: SKU that the model should be able to predict the final order_units for it\n",
    "\n",
    "So,  MAG-> AG -> product_id is the product hierarchy\n",
    "\n",
    "date_id: an integer represents a day in a week,\n",
    "\n",
    "promo_flag: indicates when a promotion was reported, \n",
    "\n",
    "promo_discount_perc: the promotion percentage calculated from the sales price,\n",
    "\n",
    "base_demand: represents the product demand in the absence of any promotion, \n",
    "\n",
    "ordered_units: final forecast for the model to generate."
   ]
  },
  {
   "cell_type": "markdown",
   "metadata": {},
   "source": [
    "##### CODE (for Model Selection, by running Model Validation on 'base_promo_trainset.csv'):"
   ]
  },
  {
   "cell_type": "code",
   "execution_count": 1,
   "metadata": {},
   "outputs": [],
   "source": [
    "# Importing the libraries\n",
    "import numpy as np\n",
    "import matplotlib.pyplot as plt\n",
    "import pandas as pd"
   ]
  },
  {
   "cell_type": "code",
   "execution_count": 19,
   "metadata": {},
   "outputs": [],
   "source": [
    "# Importing the dataset\n",
    "dataset = pd.read_csv('base_promo_trainset.csv')\n",
    "X = dataset.iloc[:, 5:8].values\n",
    "y = dataset.iloc[:, 8].values"
   ]
  },
  {
   "cell_type": "code",
   "execution_count": 20,
   "metadata": {},
   "outputs": [
    {
     "name": "stdout",
     "output_type": "stream",
     "text": [
      "   account_id  product_id  MAG   AG  date_id  promo_flag  promo_discount_perc  \\\n",
      "0           1           9  E01  638      738           0             0.000000   \n",
      "1           1          10  E01  638      738           0             0.000000   \n",
      "2           1          10  E01  638      745           0             0.000000   \n",
      "3           1          10  E01  638      752           0             5.031578   \n",
      "4           1          10  E01  638      759           0             3.331446   \n",
      "\n",
      "   base_demand  ordered_units  \n",
      "0         18.0             89  \n",
      "1         97.0             97  \n",
      "2        271.0            271  \n",
      "3        120.0            120  \n",
      "4         64.0             64  \n"
     ]
    }
   ],
   "source": [
    "print(dataset.head(5))"
   ]
  },
  {
   "cell_type": "code",
   "execution_count": 25,
   "metadata": {},
   "outputs": [
    {
     "name": "stdout",
     "output_type": "stream",
     "text": [
      "       account_id    product_id            AG       date_id    promo_flag  \\\n",
      "count     15347.0  15347.000000  15347.000000  15347.000000  15347.000000   \n",
      "mean          1.0   2846.052388   4151.085750   1119.672640      0.234313   \n",
      "std           0.0   1678.818820   2602.233166    221.784145      0.423582   \n",
      "min           1.0      9.000000    620.000000    738.000000      0.000000   \n",
      "25%           1.0    609.000000   3010.000000    927.000000      0.000000   \n",
      "50%           1.0   3739.000000   3157.000000   1123.000000      0.000000   \n",
      "75%           1.0   3944.000000   7160.000000   1312.000000      0.000000   \n",
      "max           1.0   5073.000000   8958.000000   1494.000000      1.000000   \n",
      "\n",
      "       promo_discount_perc   base_demand  ordered_units  \n",
      "count         15347.000000  15347.000000   15347.000000  \n",
      "mean              4.884157    241.435670     303.245129  \n",
      "std              10.138480    655.944153     916.858783  \n",
      "min             -57.989063      0.000000   -1917.000000  \n",
      "25%               0.000000      0.000000       0.000000  \n",
      "50%               0.000000      9.629630       8.000000  \n",
      "75%               3.723648    198.587108     243.500000  \n",
      "max              99.860810   9186.000000   27187.000000  \n",
      "\n",
      " Visualize the unique classes on each of variables\n",
      "MAG: ['E01' 'E15' 'I26' 'I36' 'M41' 'W91']\n",
      "AG: [ 620  638 3010 3079 3149 3155 3157 3160 3371 3568 3580 3590 5008 5041\n",
      " 5100 7160 7366 7456 8189 8190 8193 8194 8871 8873 8958]\n",
      "product_id: [   9   10   11   13   26   28   40   43   51  143  144  145  149  167\n",
      "  168  175  185  211  213  218  224  229  234  237  239  240  276  277\n",
      "  282  284  286  287  288  289  290  292  294  296  316  609 1640 1645\n",
      " 1947 1948 1957 1960 1964 1967 1973 3233 3234 3240 3241 3244 3245 3248\n",
      " 3250 3257 3260 3264 3266 3267 3270 3278 3290 3673 3681 3686 3691 3693\n",
      " 3712 3714 3720 3734 3739 3740 3741 3745 3764 3765 3766 3768 3788 3789\n",
      " 3794 3802 3808 3809 3813 3827 3833 3835 3838 3842 3843 3879 3881 3891\n",
      " 3893 3903 3905 3906 3909 3914 3922 3924 3927 3928 3929 3930 3940 3944\n",
      " 3951 3953 3955 3962 3964 3969 3984 3986 3988 3992 3993 3996 3999 4000\n",
      " 4006 4007 4008 4010 4012 4016 4022 4023 4024 4900 4903 4907 4912 4914\n",
      " 5024 5025 5030 5032 5033 5036 5056 5067 5072 5073]\n",
      "account_id: [1]\n"
     ]
    }
   ],
   "source": [
    "print(dataset.describe())\n",
    "\n",
    "# Rajeev: visualize the unique classes on each of variables.\n",
    "print('\\n Visualize the unique classes on each of variables')\n",
    "print('MAG: '+str(np.unique(dataset['MAG'])))\n",
    "print('AG: '+str(np.unique(dataset['AG'])))\n",
    "print('product_id: '+str(np.unique(dataset['product_id'])))\n",
    "print('account_id: '+str(np.unique(dataset['account_id'])))"
   ]
  },
  {
   "cell_type": "code",
   "execution_count": 22,
   "metadata": {},
   "outputs": [
    {
     "name": "stdout",
     "output_type": "stream",
     "text": [
      "Empty DataFrame\n",
      "Columns: [account_id, product_id, MAG, AG, date_id, promo_flag, promo_discount_perc, base_demand, ordered_units]\n",
      "Index: []\n"
     ]
    }
   ],
   "source": [
    "#print(dataset.isnull()) Rajeev: commented this line since in a long dataframe we cant actually see \n",
    "# which is True and which is False. Below line should print NaN values\n",
    "print(dataset[dataset.isnull().any(axis=1)])"
   ]
  },
  {
   "cell_type": "markdown",
   "metadata": {},
   "source": [
    "Since we can observe there are no missing values in the given dataset, we can skip using Imputer funtion to fill out the same."
   ]
  },
  {
   "cell_type": "code",
   "execution_count": 6,
   "metadata": {},
   "outputs": [],
   "source": [
    "# Taking care of missing data\n",
    "\n",
    "#from sklearn.preprocessing import Imputer\n",
    "#imputer = Imputer(missing_values = 'NaN', strategy = 'mean', axis = 0)\n",
    "#imputer = imputer.fit(X[:, 5:8])\n",
    "#X[:, 5:8] = imputer.transform(X[:, 5:8])\n"
   ]
  },
  {
   "cell_type": "code",
   "execution_count": 7,
   "metadata": {},
   "outputs": [],
   "source": [
    "# Splitting the data into the Training set and Test set from the training dataset file for model selection\n",
    "\n",
    "from sklearn.model_selection import train_test_split\n",
    "X_train, X_test, y_train, y_test = train_test_split(X, y, test_size = 0.2, random_state = 0)\n"
   ]
  },
  {
   "cell_type": "code",
   "execution_count": 8,
   "metadata": {},
   "outputs": [],
   "source": [
    "# Feature Scaling (Not required in Random Forest case)\n",
    "\n",
    "#from sklearn.preprocessing import StandardScaler\n",
    "#sc_X = StandardScaler()\n",
    "#X_train = sc_X.fit_transform(X_train)\n",
    "#X_test = sc_X.transform(X_test)\n",
    "#sc_y = StandardScaler()\n",
    "#y_train = sc_y.fit_transform(y_train.reshape(-1,1))\n"
   ]
  },
  {
   "cell_type": "code",
   "execution_count": 9,
   "metadata": {},
   "outputs": [
    {
     "data": {
      "text/plain": [
       "RandomForestRegressor(bootstrap=True, criterion='mse', max_depth=None,\n",
       "                      max_features='auto', max_leaf_nodes=None,\n",
       "                      min_impurity_decrease=0.0, min_impurity_split=None,\n",
       "                      min_samples_leaf=1, min_samples_split=2,\n",
       "                      min_weight_fraction_leaf=0.0, n_estimators=10,\n",
       "                      n_jobs=None, oob_score=False, random_state=0, verbose=0,\n",
       "                      warm_start=False)"
      ]
     },
     "execution_count": 9,
     "metadata": {},
     "output_type": "execute_result"
    }
   ],
   "source": [
    "# Fitting Decision Tree Regression to the dataset\n",
    "\n",
    "#from sklearn.model_selection import cross_val_score\n",
    "from sklearn.ensemble import RandomForestRegressor\n",
    "regressor = RandomForestRegressor(n_estimators=10, random_state = 0)\n",
    "#regressor_1 = RandomForestRegressor(n_estimators=10, random_state = 0)\n",
    "#regressor = cross_val_score(regressor_1, X_train, y_train, cv =10)\n",
    "\n",
    "regressor.fit(X_train, y_train)\n"
   ]
  },
  {
   "cell_type": "code",
   "execution_count": 10,
   "metadata": {},
   "outputs": [],
   "source": [
    "#Predicting new results\n",
    "y_pred = regressor.predict(X_test)"
   ]
  },
  {
   "cell_type": "code",
   "execution_count": 11,
   "metadata": {},
   "outputs": [
    {
     "name": "stdout",
     "output_type": "stream",
     "text": [
      "0.7489094805487418\n"
     ]
    }
   ],
   "source": [
    "# Calculating r-squared using metrics class from sklearn\n",
    "\n",
    "from sklearn import metrics\n",
    "print(metrics.r2_score(y_test,y_pred))"
   ]
  },
  {
   "cell_type": "code",
   "execution_count": 12,
   "metadata": {},
   "outputs": [],
   "source": [
    "#print(\"RSquare: %0.2f (+/- %0.2f)\" % (regressor.mean(), regressor.std() * 2))"
   ]
  },
  {
   "cell_type": "code",
   "execution_count": 13,
   "metadata": {},
   "outputs": [
    {
     "name": "stdout",
     "output_type": "stream",
     "text": [
      "86.90427215496663\n",
      "397.7570209229776\n"
     ]
    }
   ],
   "source": [
    "#calculating average absolute error \n",
    "error = abs(y_pred - y_test)\n",
    "print(error.mean())\n",
    "print(error.std())\n"
   ]
  },
  {
   "cell_type": "code",
   "execution_count": 14,
   "metadata": {},
   "outputs": [
    {
     "name": "stdout",
     "output_type": "stream",
     "text": [
      "                            OLS Regression Results                            \n",
      "==============================================================================\n",
      "Dep. Variable:                      y   R-squared:                       0.686\n",
      "Model:                            OLS   Adj. R-squared:                  0.686\n",
      "Method:                 Least Squares   F-statistic:                 1.118e+04\n",
      "Date:                Sat, 30 Nov 2019   Prob (F-statistic):               0.00\n",
      "Time:                        10:47:47   Log-Likelihood:            -1.1756e+05\n",
      "No. Observations:               15347   AIC:                         2.351e+05\n",
      "Df Residuals:                   15343   BIC:                         2.352e+05\n",
      "Df Model:                           3                                         \n",
      "Covariance Type:            nonrobust                                         \n",
      "==============================================================================\n",
      "                 coef    std err          t      P>|t|      [0.025      0.975]\n",
      "------------------------------------------------------------------------------\n",
      "const        -28.3395      4.930     -5.749      0.000     -38.003     -18.677\n",
      "x1           -30.5858     16.411     -1.864      0.062     -62.753       1.581\n",
      "x2            13.1565      0.683     19.266      0.000      11.818      14.495\n",
      "x3             1.1369      0.006    178.598      0.000       1.124       1.149\n",
      "==============================================================================\n",
      "Omnibus:                    33629.357   Durbin-Watson:                   1.086\n",
      "Prob(Omnibus):                  0.000   Jarque-Bera (JB):        292511385.291\n",
      "Skew:                          19.818   Prob(JB):                         0.00\n",
      "Kurtosis:                     678.178   Cond. No.                     2.77e+03\n",
      "==============================================================================\n",
      "\n",
      "Warnings:\n",
      "[1] Standard Errors assume that the covariance matrix of the errors is correctly specified.\n",
      "[2] The condition number is large, 2.77e+03. This might indicate that there are\n",
      "strong multicollinearity or other numerical problems.\n"
     ]
    }
   ],
   "source": [
    "#Calculating the stats metrices having p value, r-squared and adjusted r-sqaurd values\n",
    "import statsmodels.api as sm\n",
    "X = np.append(arr = np.ones((15347,1)).astype(int), values= X, axis = 1 )\n",
    "X_opt = X[:, [0,1,2,3]]\n",
    "regressor_OLS = sm.OLS(endog=y, exog=X_opt).fit()\n",
    "print(regressor_OLS.summary())\n"
   ]
  },
  {
   "cell_type": "code",
   "execution_count": 15,
   "metadata": {},
   "outputs": [
    {
     "data": {
      "image/png": "[encoded data removed]",
      "text/plain": [
       "<Figure size 432x288 with 1 Axes>"
      ]
     },
     "metadata": {
      "needs_background": "light"
     },
     "output_type": "display_data"
    }
   ],
   "source": [
    "#plotting the actual and predicted value\n",
    "plt.plot(y_pred, 'o', color = 'red')\n",
    "plt.plot(y_test, 'x', color= 'blue')\n",
    "plt.title('Predicted Value(o) vs. Actual Value(x)')\n",
    "plt.show()"
   ]
  },
  {
   "cell_type": "markdown",
   "metadata": {},
   "source": [
    "##### CODE (for Prediction on given Test dataset):"
   ]
  },
  {
   "cell_type": "code",
   "execution_count": 16,
   "metadata": {},
   "outputs": [],
   "source": [
    "# Importing the dataset\n",
    "dataset_train = pd.read_csv('base_promo_trainset.csv')\n",
    "X_train = dataset_train.iloc[:, 5:8].values\n",
    "y_train = dataset_train.iloc[:, 8].values\n",
    "\n",
    "dataset_test = pd.read_csv('base_promo_testset.csv')\n",
    "X_test = dataset_test.iloc[:, 5:8].values\n",
    "#y_test = dataset_test.iloc[:, 8].values"
   ]
  },
  {
   "cell_type": "code",
   "execution_count": 17,
   "metadata": {},
   "outputs": [
    {
     "name": "stdout",
     "output_type": "stream",
     "text": [
      "   account_id  product_id  MAG   AG  date_id  promo_flag  promo_discount_perc  \\\n",
      "0           1          10  E01  638     1501           0             0.000000   \n",
      "1           1          10  E01  638     1508           0             0.000000   \n",
      "2           1          10  E01  638     1515           0             0.000000   \n",
      "3           1          13  E01  638     1501           0             0.088674   \n",
      "4           1          13  E01  638     1508           0             0.088674   \n",
      "\n",
      "   base_demand  ordered_units  \n",
      "0          0.0            NaN  \n",
      "1          0.0            NaN  \n",
      "2          0.0            NaN  \n",
      "3          4.0            NaN  \n",
      "4          0.0            NaN  \n"
     ]
    }
   ],
   "source": [
    "print(dataset_test.head(5))"
   ]
  },
  {
   "cell_type": "code",
   "execution_count": 18,
   "metadata": {},
   "outputs": [
    {
     "name": "stdout",
     "output_type": "stream",
     "text": [
      "       account_id   product_id           AG      date_id  promo_flag  \\\n",
      "count       542.0   542.000000   542.000000   542.000000  542.000000   \n",
      "mean          1.0  2836.822878  4175.957565  1510.673432    0.081181   \n",
      "std           0.0  1702.934145  2630.693350     7.529510    0.273365   \n",
      "min           1.0     9.000000   620.000000  1501.000000    0.000000   \n",
      "25%           1.0   296.000000  3010.000000  1501.000000    0.000000   \n",
      "50%           1.0  3745.000000  3157.000000  1508.000000    0.000000   \n",
      "75%           1.0  3952.500000  7160.000000  1515.000000    0.000000   \n",
      "max           1.0  5073.000000  8958.000000  1522.000000    1.000000   \n",
      "\n",
      "       promo_discount_perc  base_demand  ordered_units  \n",
      "count           542.000000   542.000000            0.0  \n",
      "mean              2.892223   264.342979            NaN  \n",
      "std               9.539602   843.806447            NaN  \n",
      "min               0.000000     0.000000            NaN  \n",
      "25%               0.000000     0.000000            NaN  \n",
      "50%               0.000000     4.406780            NaN  \n",
      "75%               0.000000   119.500000            NaN  \n",
      "max              59.765915  9597.844828            NaN  \n"
     ]
    }
   ],
   "source": [
    "print(dataset_test.describe())"
   ]
  },
  {
   "cell_type": "code",
   "execution_count": 19,
   "metadata": {},
   "outputs": [
    {
     "name": "stdout",
     "output_type": "stream",
     "text": [
      "     account_id  product_id    MAG     AG  date_id  promo_flag  \\\n",
      "0         False       False  False  False    False       False   \n",
      "1         False       False  False  False    False       False   \n",
      "2         False       False  False  False    False       False   \n",
      "3         False       False  False  False    False       False   \n",
      "4         False       False  False  False    False       False   \n",
      "..          ...         ...    ...    ...      ...         ...   \n",
      "537       False       False  False  False    False       False   \n",
      "538       False       False  False  False    False       False   \n",
      "539       False       False  False  False    False       False   \n",
      "540       False       False  False  False    False       False   \n",
      "541       False       False  False  False    False       False   \n",
      "\n",
      "     promo_discount_perc  base_demand  ordered_units  \n",
      "0                  False        False           True  \n",
      "1                  False        False           True  \n",
      "2                  False        False           True  \n",
      "3                  False        False           True  \n",
      "4                  False        False           True  \n",
      "..                   ...          ...            ...  \n",
      "537                False        False           True  \n",
      "538                False        False           True  \n",
      "539                False        False           True  \n",
      "540                False        False           True  \n",
      "541                False        False           True  \n",
      "\n",
      "[542 rows x 9 columns]\n"
     ]
    }
   ],
   "source": [
    "print(dataset_test.isnull())"
   ]
  },
  {
   "cell_type": "code",
   "execution_count": 20,
   "metadata": {},
   "outputs": [
    {
     "data": {
      "text/plain": [
       "RandomForestRegressor(bootstrap=True, criterion='mse', max_depth=None,\n",
       "                      max_features='auto', max_leaf_nodes=None,\n",
       "                      min_impurity_decrease=0.0, min_impurity_split=None,\n",
       "                      min_samples_leaf=1, min_samples_split=2,\n",
       "                      min_weight_fraction_leaf=0.0, n_estimators=10,\n",
       "                      n_jobs=None, oob_score=False, random_state=0, verbose=0,\n",
       "                      warm_start=False)"
      ]
     },
     "execution_count": 20,
     "metadata": {},
     "output_type": "execute_result"
    }
   ],
   "source": [
    "# Fitting Decision Tree Regression to the dataset\n",
    "\n",
    "from sklearn.ensemble import RandomForestRegressor\n",
    "regressor = RandomForestRegressor(n_estimators=10, random_state = 0)\n",
    "regressor.fit(X_train, y_train)"
   ]
  },
  {
   "cell_type": "code",
   "execution_count": 21,
   "metadata": {},
   "outputs": [],
   "source": [
    "#Predicting a new result\n",
    "\n",
    "y_pred = regressor.predict(X_test)\n"
   ]
  },
  {
   "cell_type": "code",
   "execution_count": 22,
   "metadata": {},
   "outputs": [],
   "source": [
    "#Calculating the OLS summary\n",
    "\n",
    "#import statsmodels.api as sm\n",
    "#X_train = np.append(arr = np.ones((15347,1)).astype(int), values= X_train, axis = 1 )\n",
    "#X_opt = X_train[:, [0,1,2,3]]\n",
    "#regressor_OLS = sm.OLS(endog=y_train, exog=X_opt).fit()\n",
    "#print(regressor_OLS.summary())"
   ]
  },
  {
   "cell_type": "code",
   "execution_count": 23,
   "metadata": {},
   "outputs": [],
   "source": [
    "# Rounding off the Predicted ordered units to nearest integer\n",
    "\n",
    "y_round = [round(x) for x in y_pred]"
   ]
  },
  {
   "cell_type": "code",
   "execution_count": 27,
   "metadata": {},
   "outputs": [],
   "source": [
    "# And finally writing the predicted ordered unit into the test dataset file\n",
    "\n",
    "datafile = pd.read_csv('base_promo_testset.csv')\n",
    "datafile['ordered_units'] = y_round\n",
    "datafile.to_csv('base_promo_testset_pred.csv')"
   ]
  }
 ],
 "metadata": {
  "kernelspec": {
   "display_name": "Python 3",
   "language": "python",
   "name": "python3"
  },
  "language_info": {
   "codemirror_mode": {
    "name": "ipython",
    "version": 3
   },
   "file_extension": ".py",
   "mimetype": "text/x-python",
   "name": "python",
   "nbconvert_exporter": "python",
   "pygments_lexer": "ipython3",
   "version": "3.7.3"
  }
 },
 "nbformat": 4,
 "nbformat_minor": 2
}
