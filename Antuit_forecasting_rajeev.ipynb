{
 "cells": [
  {
   "cell_type": "markdown",
   "metadata": {},
   "source": [
    "# Promotional Model for Forecasting"
   ]
  },
  {
   "cell_type": "markdown",
   "metadata": {},
   "source": [
    "## Data Description\n",
    "\n",
    "In this dataset you can find the below columns:\n",
    "account_id, product_id, MAG, AG, date_id, promo_flag, promo_discount_perc, base_demand, ordered_units"
   ]
  },
  {
   "cell_type": "markdown",
   "metadata": {},
   "source": [
    "In this sample there is only one account,\n",
    "\n",
    "MAG:highest product hierarchy level \n",
    "\n",
    "AG:next highest prodct level\n",
    "\n",
    "product id: SKU that the model should be able to predict the final order_units for it\n",
    "\n",
    "So,  MAG-> AG -> product_id is the product hierarchy\n",
    "\n",
    "date_id: an integer represents a day in a week,\n",
    "\n",
    "promo_flag: indicates when a promotion was reported, \n",
    "\n",
    "promo_discount_perc: the promotion percentage calculated from the sales price,\n",
    "\n",
    "base_demand: represents the product demand in the absence of any promotion, \n",
    "\n",
    "ordered_units: final forecast for the model to generate."
   ]
  },
  {
   "cell_type": "markdown",
   "metadata": {},
   "source": [
    "##### CODE (for Model Selection, by running Model Validation on 'base_promo_trainset.csv'):"
   ]
  },
  {
   "cell_type": "code",
   "execution_count": 431,
   "metadata": {},
   "outputs": [],
   "source": [
    "# Importing the libraries\n",
    "import numpy as np\n",
    "import matplotlib.pyplot as plt\n",
    "import pandas as pd\n",
    "from sklearn.model_selection import train_test_split,GridSearchCV\n",
    "from sklearn.metrics import mean_squared_error\n",
    "from sklearn.model_selection import KFold\n",
    "import matplotlib.pyplot as plt\n",
    "from sklearn.ensemble import RandomForestRegressor"
   ]
  },
  {
   "cell_type": "code",
   "execution_count": 432,
   "metadata": {},
   "outputs": [],
   "source": [
    "# Importing the dataset\n",
    "dataset = pd.read_csv('base_promo_trainset.csv')\n",
    "# Rajeev: let us do a data preprocessing and see the observe the data before directly assigning test and train sets. \n",
    "#Hence commenting below\n",
    "#X = dataset.iloc[:, 5:8].values\n",
    "#y = dataset.iloc[:, 8].values"
   ]
  },
  {
   "cell_type": "code",
   "execution_count": 433,
   "metadata": {},
   "outputs": [
    {
     "name": "stdout",
     "output_type": "stream",
     "text": [
      "   account_id  product_id  MAG   AG  date_id  promo_flag  promo_discount_perc  \\\n",
      "0           1           9  E01  638      738           0             0.000000   \n",
      "1           1          10  E01  638      738           0             0.000000   \n",
      "2           1          10  E01  638      745           0             0.000000   \n",
      "3           1          10  E01  638      752           0             5.031578   \n",
      "4           1          10  E01  638      759           0             3.331446   \n",
      "\n",
      "   base_demand  ordered_units  \n",
      "0         18.0             89  \n",
      "1         97.0             97  \n",
      "2        271.0            271  \n",
      "3        120.0            120  \n",
      "4         64.0             64  \n"
     ]
    }
   ],
   "source": [
    "print(dataset.head(5))"
   ]
  },
  {
   "cell_type": "code",
   "execution_count": 434,
   "metadata": {},
   "outputs": [
    {
     "name": "stdout",
     "output_type": "stream",
     "text": [
      "       account_id    product_id            AG       date_id    promo_flag  \\\n",
      "count     15347.0  15347.000000  15347.000000  15347.000000  15347.000000   \n",
      "mean          1.0   2846.052388   4151.085750   1119.672640      0.234313   \n",
      "std           0.0   1678.818820   2602.233166    221.784145      0.423582   \n",
      "min           1.0      9.000000    620.000000    738.000000      0.000000   \n",
      "25%           1.0    609.000000   3010.000000    927.000000      0.000000   \n",
      "50%           1.0   3739.000000   3157.000000   1123.000000      0.000000   \n",
      "75%           1.0   3944.000000   7160.000000   1312.000000      0.000000   \n",
      "max           1.0   5073.000000   8958.000000   1494.000000      1.000000   \n",
      "\n",
      "       promo_discount_perc   base_demand  ordered_units  \n",
      "count         15347.000000  15347.000000   15347.000000  \n",
      "mean              4.884157    241.435670     303.245129  \n",
      "std              10.138480    655.944153     916.858783  \n",
      "min             -57.989063      0.000000   -1917.000000  \n",
      "25%               0.000000      0.000000       0.000000  \n",
      "50%               0.000000      9.629630       8.000000  \n",
      "75%               3.723648    198.587108     243.500000  \n",
      "max              99.860810   9186.000000   27187.000000  \n",
      "\n",
      " Visualize the unique classes on each of variables\n",
      "MAG: ['E01' 'E15' 'I26' 'I36' 'M41' 'W91']\n",
      "AG: [ 620  638 3010 3079 3149 3155 3157 3160 3371 3568 3580 3590 5008 5041\n",
      " 5100 7160 7366 7456 8189 8190 8193 8194 8871 8873 8958]\n",
      "product_id: [   9   10   11   13   26   28   40   43   51  143  144  145  149  167\n",
      "  168  175  185  211  213  218  224  229  234  237  239  240  276  277\n",
      "  282  284  286  287  288  289  290  292  294  296  316  609 1640 1645\n",
      " 1947 1948 1957 1960 1964 1967 1973 3233 3234 3240 3241 3244 3245 3248\n",
      " 3250 3257 3260 3264 3266 3267 3270 3278 3290 3673 3681 3686 3691 3693\n",
      " 3712 3714 3720 3734 3739 3740 3741 3745 3764 3765 3766 3768 3788 3789\n",
      " 3794 3802 3808 3809 3813 3827 3833 3835 3838 3842 3843 3879 3881 3891\n",
      " 3893 3903 3905 3906 3909 3914 3922 3924 3927 3928 3929 3930 3940 3944\n",
      " 3951 3953 3955 3962 3964 3969 3984 3986 3988 3992 3993 3996 3999 4000\n",
      " 4006 4007 4008 4010 4012 4016 4022 4023 4024 4900 4903 4907 4912 4914\n",
      " 5024 5025 5030 5032 5033 5036 5056 5067 5072 5073]\n",
      "account_id: [1]\n"
     ]
    }
   ],
   "source": [
    "print(dataset.describe())\n",
    "\n",
    "# Rajeev: visualize the unique classes on each of variables.\n",
    "print('\\n Visualize the unique classes on each of variables')\n",
    "print('MAG: '+str(np.unique(dataset['MAG'])))\n",
    "print('AG: '+str(np.unique(dataset['AG'])))\n",
    "print('product_id: '+str(np.unique(dataset['product_id'])))\n",
    "print('account_id: '+str(np.unique(dataset['account_id'])))"
   ]
  },
  {
   "cell_type": "code",
   "execution_count": 435,
   "metadata": {},
   "outputs": [
    {
     "name": "stdout",
     "output_type": "stream",
     "text": [
      "Number of Unique products \n",
      "\n",
      "150\n"
     ]
    }
   ],
   "source": [
    "# Let us see how many unique products are there.\n",
    "dataset['uniqueprod'] = dataset['MAG'].astype(str)+'_'+dataset['AG'].astype(str)+'_'+dataset['product_id'].astype(str)\n",
    "print('Number of Unique products \\n')\n",
    "print(len(np.unique(dataset['uniqueprod'])))\n"
   ]
  },
  {
   "cell_type": "code",
   "execution_count": 437,
   "metadata": {},
   "outputs": [
    {
     "name": "stdout",
     "output_type": "stream",
     "text": [
      "False\n"
     ]
    }
   ],
   "source": [
    "# Looking at the data set , it makes sense to use Time Series forcasting of 150 products over the time for 15k samples. \n",
    "# On an avarage 100 samples should be sufficient to build  Time Series forecasting model, that captures the demand well.\n",
    "\n",
    "# Since I could not find sufficient time this week, I will tune the existing model to perform better.\n",
    "\n",
    "# either we can build a decision tree(random forest, XGBOOST) based method. In the decision tree model 'date_id' doesnt make sense.\n",
    "\n",
    "#print(dataset.isnull()) Rajeev: commented this line since in a long dataframe we cant actually see \n",
    "# which is True and which is False. Below line should print NaN values\n",
    "print(dataset.isnull().values.any())"
   ]
  },
  {
   "cell_type": "markdown",
   "metadata": {},
   "source": [
    "Since we can observe there are no missing values in the given dataset, we can skip using Imputer funtion to fill out the same."
   ]
  },
  {
   "cell_type": "code",
   "execution_count": 438,
   "metadata": {},
   "outputs": [],
   "source": [
    "# Taking care of missing data\n",
    "\n",
    "#from sklearn.preprocessing import Imputer\n",
    "#imputer = Imputer(missing_values = 'NaN', strategy = 'mean', axis = 0)\n",
    "#imputer = imputer.fit(X[:, 5:8])\n",
    "#X[:, 5:8] = imputer.transform(X[:, 5:8])\n"
   ]
  },
  {
   "cell_type": "code",
   "execution_count": 439,
   "metadata": {},
   "outputs": [
    {
     "name": "stdout",
     "output_type": "stream",
     "text": [
      "\n",
      " Size of Existing Dataset: 15347\n",
      "\n",
      " Size of Existing Dataset after removing -negavtive discounts: 15347\n",
      "\n",
      " Size of Existing Dataset after removing outlier discount % : 15192\n"
     ]
    }
   ],
   "source": [
    "#since the promo discount of -57% doesnt make sense and we clean the values less than zero. \n",
    "# I'm not sure what is actually negative discount means. Since we cant sell products more than MRP. Hence cleaning it\n",
    "# Also the discount of 99.86% also doesnot make sense. In this case we see 99.5 and 0.005 percentile or 1.5 times IQR data \n",
    "#to be outliers. # Let us check these values.\n",
    "print('\\n Size of Existing Dataset: '+str(len(dataset)))\n",
    "#dataset['promo_discount_perc']=np.where(dataset['promo_discount_perc']<=0,0,dataset['promo_discount_perc'])\n",
    "\n",
    "print('\\n Size of Existing Dataset after removing -negavtive discounts: '+str(len(dataset)))\n",
    "dataset= dataset[dataset['promo_discount_perc']<dataset['promo_discount_perc'].quantile(0.995)]\n",
    "dataset= dataset[dataset['promo_discount_perc']>dataset['promo_discount_perc'].quantile(0.005)]\n",
    "\n",
    "print('\\n Size of Existing Dataset after removing outlier discount % : '+str(len(dataset)))\n",
    "\n",
    "# we can do these similar exercises to remove outliers on the other variables are well.\n"
   ]
  },
  {
   "cell_type": "markdown",
   "metadata": {},
   "source": []
  },
  {
   "cell_type": "code",
   "execution_count": 440,
   "metadata": {},
   "outputs": [
    {
     "name": "stdout",
     "output_type": "stream",
     "text": [
      "   product_id   AG  promo_flag  promo_discount_perc  base_demand  E01_638_91  \\\n",
      "0           9  638           0             0.000000         18.0           1   \n",
      "1          10  638           0             0.000000         97.0           0   \n",
      "2          10  638           0             0.000000        271.0           0   \n",
      "3          10  638           0             5.031578        120.0           0   \n",
      "4          10  638           0             3.331446         64.0           0   \n",
      "\n",
      "   E01_638_101  E01_638_131  E01_638_261  E01_620_431  ...  E01_620_40161  \\\n",
      "0            0            0            0            0  ...              0   \n",
      "1            1            0            0            0  ...              0   \n",
      "2            1            0            0            0  ...              0   \n",
      "3            1            0            0            0  ...              0   \n",
      "4            1            0            0            0  ...              0   \n",
      "\n",
      "   E01_620_40221  W91_3010_49121  W91_3010_49141  E01_620_50241  \\\n",
      "0              0               0               0              0   \n",
      "1              0               0               0              0   \n",
      "2              0               0               0              0   \n",
      "3              0               0               0              0   \n",
      "4              0               0               0              0   \n",
      "\n",
      "   I36_5041_50301  E01_7456_50331  E01_620_50361  E01_5100_50721  \\\n",
      "0               0               0              0               0   \n",
      "1               0               0              0               0   \n",
      "2               0               0              0               0   \n",
      "3               0               0              0               0   \n",
      "4               0               0              0               0   \n",
      "\n",
      "   E01_5100_50731  \n",
      "0               0  \n",
      "1               0  \n",
      "2               0  \n",
      "3               0  \n",
      "4               0  \n",
      "\n",
      "[5 rows x 155 columns]\n"
     ]
    }
   ],
   "source": [
    "\n",
    "mag=list(pd.Series(dataset['uniqueprod']).unique())\n",
    "for i in range(len(mag)):\n",
    "    ttl=mag[i]\n",
    "    ttl1=ttl+'1'\n",
    "    dataset[ttl1] = dataset['uniqueprod'].str.contains(ttl)\n",
    "    dataset[ttl1] = dataset[ttl1].map({True: 1, False: 0})\n",
    "\n",
    "del dataset['MAG']\n",
    "y= dataset['ordered_units']\n",
    "del  dataset['ordered_units']\n",
    "del dataset['account_id']\n",
    "del dataset['date_id']\n",
    "del dataset['uniqueprod'] \n",
    "\n",
    "print(dataset.head())"
   ]
  },
  {
   "cell_type": "code",
   "execution_count": 441,
   "metadata": {},
   "outputs": [],
   "source": [
    "# Splitting the data into the Training set and Test set from the training dataset file for model selection\n",
    "X = dataset\n",
    "\n",
    "from sklearn.model_selection import train_test_split\n",
    "X_train, X_test, y_train, y_test = train_test_split(X, y, test_size = 0.2, random_state = 0)\n",
    "\n"
   ]
  },
  {
   "cell_type": "code",
   "execution_count": 394,
   "metadata": {},
   "outputs": [],
   "source": [
    "# Feature Scaling (Not required in Random Forest case)\n",
    "\n",
    "#from sklearn.preprocessing import StandardScaler\n",
    "#sc_X = StandardScaler()\n",
    "#X_train = sc_X.fit_transform(X_train)\n",
    "#X_test = sc_X.transform(X_test)\n",
    "#sc_y = StandardScaler()\n",
    "#y_train = sc_y.fit_transform(y_train.reshape(-1,1))\n"
   ]
  },
  {
   "cell_type": "code",
   "execution_count": 395,
   "metadata": {},
   "outputs": [
    {
     "data": {
      "text/plain": [
       "GridSearchCV(cv=5, error_score='raise-deprecating',\n",
       "             estimator=RandomForestRegressor(bootstrap=True, criterion='mse',\n",
       "                                             max_depth=None,\n",
       "                                             max_features='auto',\n",
       "                                             max_leaf_nodes=None,\n",
       "                                             min_impurity_decrease=0.0,\n",
       "                                             min_impurity_split=None,\n",
       "                                             min_samples_leaf=1,\n",
       "                                             min_samples_split=2,\n",
       "                                             min_weight_fraction_leaf=0.0,\n",
       "                                             n_estimators='warn', n_jobs=-1,\n",
       "                                             oob_score=False, random_state=1234,\n",
       "                                             verbose=0, warm_start=False),\n",
       "             iid='warn', n_jobs=-1,\n",
       "             param_grid={'max_depth': [6, 7, 8, 9, 10, 11, 12, 13, 14],\n",
       "                         'max_features': [0.4, 0.45, 0.5, 0.55, 0.6, 0.65, 0.7,\n",
       "                                          0.8, 0.9],\n",
       "                         'n_estimators': [5, 10, 25, 35, 40, 50, 60, 75, 90,\n",
       "                                          100, 120, 150, 170, 190, 200, 220,\n",
       "                                          250]},\n",
       "             pre_dispatch='2*n_jobs', refit=True, return_train_score=False,\n",
       "             scoring=None, verbose=0)"
      ]
     },
     "execution_count": 395,
     "metadata": {},
     "output_type": "execute_result"
    }
   ],
   "source": [
    "# Use the grid search cv to find the optimum parameters, this can be fine tuned with more effort.\n",
    "# randomized search cv also can be used in case further tune the model but it is quite slow.\n",
    "# set n_jobs=-1 for parallel run\n",
    "rfr=RandomForestRegressor(random_state=1234,n_jobs=-1)\n",
    "\n",
    "param_grid = { \n",
    "    'n_estimators': [5,10,25,35,40,50,60,75,90,100,120,150,170,190,200,220,250],\n",
    "    'max_features': [0.4,0.45,0.5, 0.55,0.6, 0.65, 0.7,0.8, 0.9],\n",
    "    'max_depth' : [6,7,8,9,10,11,12,13,14]\n",
    "}\n",
    "\n",
    "CV_rfr = GridSearchCV(estimator=rfr, param_grid=param_grid, cv= 5,n_jobs=-1)\n",
    "CV_rfr.fit(X_train, y_train)\n"
   ]
  },
  {
   "cell_type": "code",
   "execution_count": 442,
   "metadata": {},
   "outputs": [
    {
     "data": {
      "text/plain": [
       "{'max_depth': 14, 'max_features': 0.7, 'n_estimators': 50}"
      ]
     },
     "execution_count": 442,
     "metadata": {},
     "output_type": "execute_result"
    }
   ],
   "source": [
    "CV_rfr.best_params_"
   ]
  },
  {
   "cell_type": "code",
   "execution_count": 443,
   "metadata": {},
   "outputs": [
    {
     "data": {
      "text/plain": [
       "RandomForestRegressor(bootstrap=True, criterion='mse', max_depth=14,\n",
       "                      max_features=0.7, max_leaf_nodes=None,\n",
       "                      min_impurity_decrease=0.0, min_impurity_split=None,\n",
       "                      min_samples_leaf=1, min_samples_split=2,\n",
       "                      min_weight_fraction_leaf=0.0, n_estimators=50, n_jobs=-1,\n",
       "                      oob_score=False, random_state=1234, verbose=0,\n",
       "                      warm_start=False)"
      ]
     },
     "execution_count": 443,
     "metadata": {},
     "output_type": "execute_result"
    }
   ],
   "source": [
    "# Fitting Decision Tree Regression to the dataset\n",
    "\n",
    "#from sklearn.model_selection import cross_val_score\n",
    "from sklearn.ensemble import RandomForestRegressor\n",
    "regressor = RandomForestRegressor(n_estimators=50, max_depth=14,max_features= 0.7, random_state = 1234,n_jobs=-1)\n",
    "#regressor_1 = RandomForestRegressor(n_estimators=10, random_state = 0)\n",
    "#regressor = cross_val_score(regressor_1, X_train, y_train, cv =10)\n",
    "\n",
    "regressor.fit(X_train, y_train)\n"
   ]
  },
  {
   "cell_type": "code",
   "execution_count": 444,
   "metadata": {},
   "outputs": [],
   "source": [
    "#Predicting new results\n",
    "y_pred = regressor.predict(X_test)"
   ]
  },
  {
   "cell_type": "code",
   "execution_count": 445,
   "metadata": {},
   "outputs": [
    {
     "name": "stdout",
     "output_type": "stream",
     "text": [
      "0.9069360083770887\n"
     ]
    }
   ],
   "source": [
    "# Calculating r-squared using metrics class from sklearn\n",
    "\n",
    "from sklearn import metrics\n",
    "print(metrics.r2_score(y_test,y_pred))\n"
   ]
  },
  {
   "cell_type": "code",
   "execution_count": 446,
   "metadata": {},
   "outputs": [],
   "source": [
    "#print(\"RSquare: %0.2f (+/- %0.2f)\" % (regressor.mean(), regressor.std() * 2))"
   ]
  },
  {
   "cell_type": "code",
   "execution_count": 447,
   "metadata": {},
   "outputs": [
    {
     "name": "stdout",
     "output_type": "stream",
     "text": [
      "61.556951938812254\n",
      "238.5522222733764\n"
     ]
    }
   ],
   "source": [
    "#calculating average absolute error \n",
    "error = abs(y_pred - y_test)\n",
    "print(error.mean())\n",
    "print(error.std())\n"
   ]
  },
  {
   "cell_type": "code",
   "execution_count": 448,
   "metadata": {},
   "outputs": [
    {
     "name": "stdout",
     "output_type": "stream",
     "text": [
      "                            OLS Regression Results                            \n",
      "==============================================================================\n",
      "Dep. Variable:          ordered_units   R-squared:                       0.759\n",
      "Model:                            OLS   Adj. R-squared:                  0.759\n",
      "Method:                 Least Squares   F-statistic:                     4779.\n",
      "Date:                Wed, 11 Dec 2019   Prob (F-statistic):               0.00\n",
      "Time:                        07:40:41   Log-Likelihood:            -1.1340e+05\n",
      "No. Observations:               15192   AIC:                         2.268e+05\n",
      "Df Residuals:                   15181   BIC:                         2.269e+05\n",
      "Df Model:                          10                                         \n",
      "Covariance Type:            nonrobust                                         \n",
      "==============================================================================\n",
      "                 coef    std err          t      P>|t|      [0.025      0.975]\n",
      "------------------------------------------------------------------------------\n",
      "const        -29.4195      9.140     -3.219      0.001     -47.335     -11.503\n",
      "x1            -0.0058      0.002     -2.655      0.008      -0.010      -0.002\n",
      "x2             0.0048      0.001      3.475      0.001       0.002       0.007\n",
      "x3           -30.2823     15.353     -1.972      0.049     -60.375      -0.189\n",
      "x4            12.8533      0.686     18.729      0.000      11.508      14.199\n",
      "x5             1.1255      0.005    212.663      0.000       1.115       1.136\n",
      "x6           -73.2893     43.035     -1.703      0.089    -157.644      11.065\n",
      "x7           -14.4162     41.520     -0.347      0.728     -95.801      66.969\n",
      "x8           -44.9223     41.578     -1.080      0.280    -126.420      36.575\n",
      "x9             9.4507     41.684      0.227      0.821     -72.256      91.157\n",
      "x10           24.0665     41.539      0.579      0.562     -57.354     105.487\n",
      "==============================================================================\n",
      "Omnibus:                    27849.403   Durbin-Watson:                   1.065\n",
      "Prob(Omnibus):                  0.000   Jarque-Bera (JB):         54477293.080\n",
      "Skew:                          13.555   Prob(JB):                         0.00\n",
      "Kurtosis:                     295.108   Cond. No.                     7.48e+04\n",
      "==============================================================================\n",
      "\n",
      "Warnings:\n",
      "[1] Standard Errors assume that the covariance matrix of the errors is correctly specified.\n",
      "[2] The condition number is large, 7.48e+04. This might indicate that there are\n",
      "strong multicollinearity or other numerical problems.\n"
     ]
    }
   ],
   "source": [
    "#Calculating the stats metrices having p value, r-squared and adjusted r-sqaurd values\n",
    "import statsmodels.api as sm\n",
    "X = np.append(arr = np.ones((len(dataset),1)).astype(int), values= X, axis = 1 )\n",
    "\n",
    "X_opt = X[:, [0,1,2,3,4,5,6,7,8,9,10]]\n",
    "regressor_OLS = sm.OLS(endog=y, exog=X_opt).fit()\n",
    "print(regressor_OLS.summary())\n"
   ]
  },
  {
   "cell_type": "code",
   "execution_count": 449,
   "metadata": {},
   "outputs": [
    {
     "data": {
      "image/png": "[encoded data removed]",
      "text/plain": [
       "<Figure size 432x288 with 1 Axes>"
      ]
     },
     "metadata": {
      "needs_background": "light"
     },
     "output_type": "display_data"
    }
   ],
   "source": [
    "#plotting the actual and predicted value\n",
    "plt.plot(y_pred, 'o', color = 'red')\n",
    "plt.plot(y_test, 'x', color= 'blue')\n",
    "plt.title('Predicted Value(o) vs. Actual Value(x)')\n",
    "plt.show()"
   ]
  },
  {
   "cell_type": "markdown",
   "metadata": {},
   "source": [
    "##### CODE (for Prediction on given Test dataset):"
   ]
  },
  {
   "cell_type": "code",
   "execution_count": 470,
   "metadata": {},
   "outputs": [],
   "source": [
    "# Importing the dataset\n",
    "# Rajeev; Using the data read earlier\n",
    "dataset = pd.read_csv('base_promo_trainset.csv')\n",
    "\n",
    "#X_train = dataset_train.iloc[:, 5:8].values\n",
    "#y_train = dataset_train.iloc[:, 8].values\n",
    "\n",
    "dataset_test = pd.read_csv('base_promo_testset.csv')\n"
   ]
  },
  {
   "cell_type": "code",
   "execution_count": 471,
   "metadata": {},
   "outputs": [
    {
     "name": "stdout",
     "output_type": "stream",
     "text": [
      "   account_id  product_id  MAG   AG  date_id  promo_flag  promo_discount_perc  \\\n",
      "0           1          10  E01  638     1501           0             0.000000   \n",
      "1           1          10  E01  638     1508           0             0.000000   \n",
      "2           1          10  E01  638     1515           0             0.000000   \n",
      "3           1          13  E01  638     1501           0             0.088674   \n",
      "4           1          13  E01  638     1508           0             0.088674   \n",
      "\n",
      "   base_demand  ordered_units  \n",
      "0          0.0            NaN  \n",
      "1          0.0            NaN  \n",
      "2          0.0            NaN  \n",
      "3          4.0            NaN  \n",
      "4          0.0            NaN  \n"
     ]
    }
   ],
   "source": [
    "print(dataset_test.head(5))"
   ]
  },
  {
   "cell_type": "code",
   "execution_count": 472,
   "metadata": {},
   "outputs": [
    {
     "name": "stdout",
     "output_type": "stream",
     "text": [
      "       account_id   product_id           AG      date_id  promo_flag  \\\n",
      "count       542.0   542.000000   542.000000   542.000000  542.000000   \n",
      "mean          1.0  2836.822878  4175.957565  1510.673432    0.081181   \n",
      "std           0.0  1702.934145  2630.693350     7.529510    0.273365   \n",
      "min           1.0     9.000000   620.000000  1501.000000    0.000000   \n",
      "25%           1.0   296.000000  3010.000000  1501.000000    0.000000   \n",
      "50%           1.0  3745.000000  3157.000000  1508.000000    0.000000   \n",
      "75%           1.0  3952.500000  7160.000000  1515.000000    0.000000   \n",
      "max           1.0  5073.000000  8958.000000  1522.000000    1.000000   \n",
      "\n",
      "       promo_discount_perc  base_demand  ordered_units  \n",
      "count           542.000000   542.000000            0.0  \n",
      "mean              2.892223   264.342979            NaN  \n",
      "std               9.539602   843.806447            NaN  \n",
      "min               0.000000     0.000000            NaN  \n",
      "25%               0.000000     0.000000            NaN  \n",
      "50%               0.000000     4.406780            NaN  \n",
      "75%               0.000000   119.500000            NaN  \n",
      "max              59.765915  9597.844828            NaN  \n",
      "\n",
      " Visualize the unique classes on each of variables\n",
      "MAG: ['E01' 'E15' 'I26' 'I36' 'M41' 'W91']\n",
      "AG: [ 620  638 3010 3079 3149 3155 3157 3160 3371 3568 3580 3590 5008 5041\n",
      " 5100 7160 7366 7456 8189 8190 8193 8194 8871 8873 8958]\n",
      "product_id: [   9   10   11   13   26   28   40   43   51  143  144  145  149  167\n",
      "  168  175  185  211  213  218  224  229  234  237  239  240  276  277\n",
      "  282  284  286  287  288  289  290  292  294  296  316  609 1640 1645\n",
      " 1947 1948 1960 1964 1967 1973 3233 3234 3240 3241 3244 3245 3248 3250\n",
      " 3257 3260 3264 3266 3267 3270 3278 3290 3673 3681 3686 3691 3712 3714\n",
      " 3720 3734 3739 3740 3741 3745 3764 3765 3766 3768 3788 3789 3794 3802\n",
      " 3808 3809 3813 3827 3833 3835 3838 3842 3843 3879 3881 3891 3893 3903\n",
      " 3905 3906 3909 3914 3922 3924 3927 3928 3929 3930 3940 3944 3951 3953\n",
      " 3962 3964 3969 3978 3982 3984 3986 3988 3992 3993 3996 3999 4000 4006\n",
      " 4007 4008 4010 4012 4016 4022 4023 4024 4900 4903 4907 4912 4914 5024\n",
      " 5025 5030 5032 5033 5036 5067 5072 5073]\n",
      "account_id: [1]\n"
     ]
    }
   ],
   "source": [
    "print(dataset_test.describe())\n",
    "\n",
    "# Rajeev: visualize the unique classes on each of variables.\n",
    "print('\\n Visualize the unique classes on each of variables')\n",
    "print('MAG: '+str(np.unique(dataset_test['MAG'])))\n",
    "print('AG: '+str(np.unique(dataset_test['AG'])))\n",
    "print('product_id: '+str(np.unique(dataset_test['product_id'])))\n",
    "print('account_id: '+str(np.unique(dataset_test['account_id'])))"
   ]
  },
  {
   "cell_type": "code",
   "execution_count": 473,
   "metadata": {
    "scrolled": false
   },
   "outputs": [
    {
     "name": "stdout",
     "output_type": "stream",
     "text": [
      "     account_id  product_id    MAG     AG  date_id  promo_flag  \\\n",
      "0         False       False  False  False    False       False   \n",
      "1         False       False  False  False    False       False   \n",
      "2         False       False  False  False    False       False   \n",
      "3         False       False  False  False    False       False   \n",
      "4         False       False  False  False    False       False   \n",
      "5         False       False  False  False    False       False   \n",
      "6         False       False  False  False    False       False   \n",
      "7         False       False  False  False    False       False   \n",
      "8         False       False  False  False    False       False   \n",
      "9         False       False  False  False    False       False   \n",
      "10        False       False  False  False    False       False   \n",
      "11        False       False  False  False    False       False   \n",
      "12        False       False  False  False    False       False   \n",
      "13        False       False  False  False    False       False   \n",
      "14        False       False  False  False    False       False   \n",
      "15        False       False  False  False    False       False   \n",
      "16        False       False  False  False    False       False   \n",
      "17        False       False  False  False    False       False   \n",
      "18        False       False  False  False    False       False   \n",
      "19        False       False  False  False    False       False   \n",
      "20        False       False  False  False    False       False   \n",
      "21        False       False  False  False    False       False   \n",
      "22        False       False  False  False    False       False   \n",
      "23        False       False  False  False    False       False   \n",
      "24        False       False  False  False    False       False   \n",
      "25        False       False  False  False    False       False   \n",
      "26        False       False  False  False    False       False   \n",
      "27        False       False  False  False    False       False   \n",
      "28        False       False  False  False    False       False   \n",
      "29        False       False  False  False    False       False   \n",
      "..          ...         ...    ...    ...      ...         ...   \n",
      "512       False       False  False  False    False       False   \n",
      "513       False       False  False  False    False       False   \n",
      "514       False       False  False  False    False       False   \n",
      "515       False       False  False  False    False       False   \n",
      "516       False       False  False  False    False       False   \n",
      "517       False       False  False  False    False       False   \n",
      "518       False       False  False  False    False       False   \n",
      "519       False       False  False  False    False       False   \n",
      "520       False       False  False  False    False       False   \n",
      "521       False       False  False  False    False       False   \n",
      "522       False       False  False  False    False       False   \n",
      "523       False       False  False  False    False       False   \n",
      "524       False       False  False  False    False       False   \n",
      "525       False       False  False  False    False       False   \n",
      "526       False       False  False  False    False       False   \n",
      "527       False       False  False  False    False       False   \n",
      "528       False       False  False  False    False       False   \n",
      "529       False       False  False  False    False       False   \n",
      "530       False       False  False  False    False       False   \n",
      "531       False       False  False  False    False       False   \n",
      "532       False       False  False  False    False       False   \n",
      "533       False       False  False  False    False       False   \n",
      "534       False       False  False  False    False       False   \n",
      "535       False       False  False  False    False       False   \n",
      "536       False       False  False  False    False       False   \n",
      "537       False       False  False  False    False       False   \n",
      "538       False       False  False  False    False       False   \n",
      "539       False       False  False  False    False       False   \n",
      "540       False       False  False  False    False       False   \n",
      "541       False       False  False  False    False       False   \n",
      "\n",
      "     promo_discount_perc  base_demand  ordered_units  \n",
      "0                  False        False           True  \n",
      "1                  False        False           True  \n",
      "2                  False        False           True  \n",
      "3                  False        False           True  \n",
      "4                  False        False           True  \n",
      "5                  False        False           True  \n",
      "6                  False        False           True  \n",
      "7                  False        False           True  \n",
      "8                  False        False           True  \n",
      "9                  False        False           True  \n",
      "10                 False        False           True  \n",
      "11                 False        False           True  \n",
      "12                 False        False           True  \n",
      "13                 False        False           True  \n",
      "14                 False        False           True  \n",
      "15                 False        False           True  \n",
      "16                 False        False           True  \n",
      "17                 False        False           True  \n",
      "18                 False        False           True  \n",
      "19                 False        False           True  \n",
      "20                 False        False           True  \n",
      "21                 False        False           True  \n",
      "22                 False        False           True  \n",
      "23                 False        False           True  \n",
      "24                 False        False           True  \n",
      "25                 False        False           True  \n",
      "26                 False        False           True  \n",
      "27                 False        False           True  \n",
      "28                 False        False           True  \n",
      "29                 False        False           True  \n",
      "..                   ...          ...            ...  \n",
      "512                False        False           True  \n",
      "513                False        False           True  \n",
      "514                False        False           True  \n",
      "515                False        False           True  \n",
      "516                False        False           True  \n",
      "517                False        False           True  \n",
      "518                False        False           True  \n",
      "519                False        False           True  \n",
      "520                False        False           True  \n",
      "521                False        False           True  \n",
      "522                False        False           True  \n",
      "523                False        False           True  \n",
      "524                False        False           True  \n",
      "525                False        False           True  \n",
      "526                False        False           True  \n",
      "527                False        False           True  \n",
      "528                False        False           True  \n",
      "529                False        False           True  \n",
      "530                False        False           True  \n",
      "531                False        False           True  \n",
      "532                False        False           True  \n",
      "533                False        False           True  \n",
      "534                False        False           True  \n",
      "535                False        False           True  \n",
      "536                False        False           True  \n",
      "537                False        False           True  \n",
      "538                False        False           True  \n",
      "539                False        False           True  \n",
      "540                False        False           True  \n",
      "541                False        False           True  \n",
      "\n",
      "[542 rows x 9 columns]\n"
     ]
    }
   ],
   "source": [
    "#print(dataset.isnull()) Rajeev: commented this line since in a long dataframe we cant actually see \n",
    "# which is True and which is False. Below line should print NaN values\n",
    "print(dataset_test.isnull())"
   ]
  },
  {
   "cell_type": "code",
   "execution_count": 474,
   "metadata": {},
   "outputs": [
    {
     "name": "stdout",
     "output_type": "stream",
     "text": [
      "Number of Unique products \n",
      "\n",
      "148\n"
     ]
    }
   ],
   "source": [
    "# Let us see how many unique products are there.\n",
    "dataset_test['uniqueprod'] = dataset_test['MAG'].astype(str)+'_'+dataset_test['AG'].astype(str)+'_'+dataset_test['product_id'].astype(str)\n",
    "print('Number of Unique products \\n')\n",
    "print(len(np.unique(dataset_test['uniqueprod'])))"
   ]
  },
  {
   "cell_type": "code",
   "execution_count": 475,
   "metadata": {},
   "outputs": [
    {
     "name": "stdout",
     "output_type": "stream",
     "text": [
      "   product_id   AG  promo_flag  promo_discount_perc  base_demand  E01_638_91  \\\n",
      "0          10  638           0             0.000000          0.0           0   \n",
      "1          10  638           0             0.000000          0.0           0   \n",
      "2          10  638           0             0.000000          0.0           0   \n",
      "3          13  638           0             0.088674          4.0           0   \n",
      "4          13  638           0             0.088674          0.0           0   \n",
      "\n",
      "   E01_638_101  E01_638_131  E01_638_261  E01_620_431  ...  E01_620_40161  \\\n",
      "0            1            0            0            0  ...              0   \n",
      "1            1            0            0            0  ...              0   \n",
      "2            1            0            0            0  ...              0   \n",
      "3            0            1            0            0  ...              0   \n",
      "4            0            1            0            0  ...              0   \n",
      "\n",
      "   E01_620_40221  W91_3010_49121  W91_3010_49141  E01_620_50241  \\\n",
      "0              0               0               0              0   \n",
      "1              0               0               0              0   \n",
      "2              0               0               0              0   \n",
      "3              0               0               0              0   \n",
      "4              0               0               0              0   \n",
      "\n",
      "   I36_5041_50301  E01_7456_50331  E01_620_50361  E01_5100_50721  \\\n",
      "0               0               0              0               0   \n",
      "1               0               0              0               0   \n",
      "2               0               0              0               0   \n",
      "3               0               0              0               0   \n",
      "4               0               0              0               0   \n",
      "\n",
      "   E01_5100_50731  \n",
      "0               0  \n",
      "1               0  \n",
      "2               0  \n",
      "3               0  \n",
      "4               0  \n",
      "\n",
      "[5 rows x 155 columns]\n"
     ]
    }
   ],
   "source": [
    "dataset['uniqueprod'] = dataset['MAG'].astype(str)+'_'+dataset['AG'].astype(str)+'_'+dataset['product_id'].astype(str)\n",
    "mag=list(pd.Series(dataset['uniqueprod']).unique())\n",
    "for i in range(len(mag)):\n",
    "    ttl=mag[i]\n",
    "    ttl1=ttl+'1'\n",
    "    dataset_test[ttl1] = dataset_test['uniqueprod'].str.contains(ttl)\n",
    "    dataset_test[ttl1] = dataset_test[ttl1].map({True: 1, False: 0})\n",
    "\n",
    "del dataset_test['MAG']\n",
    "y= dataset_test['ordered_units']\n",
    "del  dataset_test['ordered_units']\n",
    "del dataset_test['account_id']\n",
    "del dataset_test['date_id']\n",
    "del dataset_test['uniqueprod'] \n",
    "\n",
    "print(dataset_test.head())"
   ]
  },
  {
   "cell_type": "code",
   "execution_count": 481,
   "metadata": {},
   "outputs": [
    {
     "name": "stdout",
     "output_type": "stream",
     "text": [
      "3039\n",
      "542\n"
     ]
    }
   ],
   "source": [
    "# Fitting Decision Tree Regression to the dataset\n",
    "# below was the regressor we have used earlier.\n",
    "#regressor = RandomForestRegressor(n_estimators=50, max_depth=14,max_features= 0.7, random_state = 1234,n_jobs=-1)\n",
    "X_test = dataset_test\n",
    "print(len(y_test))\n",
    "print(len(X_test))"
   ]
  },
  {
   "cell_type": "code",
   "execution_count": 477,
   "metadata": {},
   "outputs": [
    {
     "ename": "ValueError",
     "evalue": "Found input variables with inconsistent numbers of samples: [3039, 542]",
     "output_type": "error",
     "traceback": [
      "\u001b[1;31m---------------------------------------------------------------------------\u001b[0m",
      "\u001b[1;31mValueError\u001b[0m                                Traceback (most recent call last)",
      "\u001b[1;32m<ipython-input-477-edac0c2d53b0>\u001b[0m in \u001b[0;36m<module>\u001b[1;34m\u001b[0m\n\u001b[0;32m      3\u001b[0m \u001b[0my_pred\u001b[0m \u001b[1;33m=\u001b[0m \u001b[0mregressor\u001b[0m\u001b[1;33m.\u001b[0m\u001b[0mpredict\u001b[0m\u001b[1;33m(\u001b[0m\u001b[0mX_test\u001b[0m\u001b[1;33m)\u001b[0m\u001b[1;33m\u001b[0m\u001b[1;33m\u001b[0m\u001b[0m\n\u001b[0;32m      4\u001b[0m \u001b[1;32mfrom\u001b[0m \u001b[0msklearn\u001b[0m \u001b[1;32mimport\u001b[0m \u001b[0mmetrics\u001b[0m\u001b[1;33m\u001b[0m\u001b[1;33m\u001b[0m\u001b[0m\n\u001b[1;32m----> 5\u001b[1;33m \u001b[0mprint\u001b[0m\u001b[1;33m(\u001b[0m\u001b[0mmetrics\u001b[0m\u001b[1;33m.\u001b[0m\u001b[0mr2_score\u001b[0m\u001b[1;33m(\u001b[0m\u001b[0my_test\u001b[0m\u001b[1;33m,\u001b[0m\u001b[0my_pred\u001b[0m\u001b[1;33m)\u001b[0m\u001b[1;33m)\u001b[0m\u001b[1;33m\u001b[0m\u001b[1;33m\u001b[0m\u001b[0m\n\u001b[0m\u001b[0;32m      6\u001b[0m \u001b[1;33m\u001b[0m\u001b[0m\n\u001b[0;32m      7\u001b[0m \u001b[1;31m#calculating average absolute error\u001b[0m\u001b[1;33m\u001b[0m\u001b[1;33m\u001b[0m\u001b[1;33m\u001b[0m\u001b[0m\n",
      "\u001b[1;32mD:\\ProgramData\\Anaconda3\\lib\\site-packages\\sklearn\\metrics\\regression.py\u001b[0m in \u001b[0;36mr2_score\u001b[1;34m(y_true, y_pred, sample_weight, multioutput)\u001b[0m\n\u001b[0;32m    536\u001b[0m     \"\"\"\n\u001b[0;32m    537\u001b[0m     y_type, y_true, y_pred, multioutput = _check_reg_targets(\n\u001b[1;32m--> 538\u001b[1;33m         y_true, y_pred, multioutput)\n\u001b[0m\u001b[0;32m    539\u001b[0m     \u001b[0mcheck_consistent_length\u001b[0m\u001b[1;33m(\u001b[0m\u001b[0my_true\u001b[0m\u001b[1;33m,\u001b[0m \u001b[0my_pred\u001b[0m\u001b[1;33m,\u001b[0m \u001b[0msample_weight\u001b[0m\u001b[1;33m)\u001b[0m\u001b[1;33m\u001b[0m\u001b[1;33m\u001b[0m\u001b[0m\n\u001b[0;32m    540\u001b[0m \u001b[1;33m\u001b[0m\u001b[0m\n",
      "\u001b[1;32mD:\\ProgramData\\Anaconda3\\lib\\site-packages\\sklearn\\metrics\\regression.py\u001b[0m in \u001b[0;36m_check_reg_targets\u001b[1;34m(y_true, y_pred, multioutput)\u001b[0m\n\u001b[0;32m     75\u001b[0m \u001b[1;33m\u001b[0m\u001b[0m\n\u001b[0;32m     76\u001b[0m     \"\"\"\n\u001b[1;32m---> 77\u001b[1;33m     \u001b[0mcheck_consistent_length\u001b[0m\u001b[1;33m(\u001b[0m\u001b[0my_true\u001b[0m\u001b[1;33m,\u001b[0m \u001b[0my_pred\u001b[0m\u001b[1;33m)\u001b[0m\u001b[1;33m\u001b[0m\u001b[1;33m\u001b[0m\u001b[0m\n\u001b[0m\u001b[0;32m     78\u001b[0m     \u001b[0my_true\u001b[0m \u001b[1;33m=\u001b[0m \u001b[0mcheck_array\u001b[0m\u001b[1;33m(\u001b[0m\u001b[0my_true\u001b[0m\u001b[1;33m,\u001b[0m \u001b[0mensure_2d\u001b[0m\u001b[1;33m=\u001b[0m\u001b[1;32mFalse\u001b[0m\u001b[1;33m)\u001b[0m\u001b[1;33m\u001b[0m\u001b[1;33m\u001b[0m\u001b[0m\n\u001b[0;32m     79\u001b[0m     \u001b[0my_pred\u001b[0m \u001b[1;33m=\u001b[0m \u001b[0mcheck_array\u001b[0m\u001b[1;33m(\u001b[0m\u001b[0my_pred\u001b[0m\u001b[1;33m,\u001b[0m \u001b[0mensure_2d\u001b[0m\u001b[1;33m=\u001b[0m\u001b[1;32mFalse\u001b[0m\u001b[1;33m)\u001b[0m\u001b[1;33m\u001b[0m\u001b[1;33m\u001b[0m\u001b[0m\n",
      "\u001b[1;32mD:\\ProgramData\\Anaconda3\\lib\\site-packages\\sklearn\\utils\\validation.py\u001b[0m in \u001b[0;36mcheck_consistent_length\u001b[1;34m(*arrays)\u001b[0m\n\u001b[0;32m    203\u001b[0m     \u001b[1;32mif\u001b[0m \u001b[0mlen\u001b[0m\u001b[1;33m(\u001b[0m\u001b[0muniques\u001b[0m\u001b[1;33m)\u001b[0m \u001b[1;33m>\u001b[0m \u001b[1;36m1\u001b[0m\u001b[1;33m:\u001b[0m\u001b[1;33m\u001b[0m\u001b[1;33m\u001b[0m\u001b[0m\n\u001b[0;32m    204\u001b[0m         raise ValueError(\"Found input variables with inconsistent numbers of\"\n\u001b[1;32m--> 205\u001b[1;33m                          \" samples: %r\" % [int(l) for l in lengths])\n\u001b[0m\u001b[0;32m    206\u001b[0m \u001b[1;33m\u001b[0m\u001b[0m\n\u001b[0;32m    207\u001b[0m \u001b[1;33m\u001b[0m\u001b[0m\n",
      "\u001b[1;31mValueError\u001b[0m: Found input variables with inconsistent numbers of samples: [3039, 542]"
     ]
    }
   ],
   "source": [
    "#Predicting a new result\n",
    "\n",
    "y_pred = regressor.predict(X_test)\n",
    "from sklearn import metrics\n",
    "print(metrics.r2_score(y_test,y_pred))\n",
    "\n",
    "#calculating average absolute error \n",
    "error = abs(y_pred - y_test)\n",
    "print(error.mean())\n",
    "print(error.std())\n",
    "\n"
   ]
  },
  {
   "cell_type": "code",
   "execution_count": 22,
   "metadata": {},
   "outputs": [],
   "source": [
    "#Calculating the OLS summary\n",
    "\n",
    "#import statsmodels.api as sm\n",
    "#X_train = np.append(arr = np.ones((15347,1)).astype(int), values= X_train, axis = 1 )\n",
    "#X_opt = X_train[:, [0,1,2,3]]\n",
    "#regressor_OLS = sm.OLS(endog=y_train, exog=X_opt).fit()\n",
    "#print(regressor_OLS.summary())"
   ]
  },
  {
   "cell_type": "code",
   "execution_count": 23,
   "metadata": {},
   "outputs": [],
   "source": [
    "# Rounding off the Predicted ordered units to nearest integer\n",
    "\n",
    "y_round = [round(x) for x in y_pred]"
   ]
  },
  {
   "cell_type": "code",
   "execution_count": 27,
   "metadata": {},
   "outputs": [],
   "source": [
    "# And finally writing the predicted ordered unit into the test dataset file\n",
    "\n",
    "datafile = pd.read_csv('base_promo_testset.csv')\n",
    "datafile['ordered_units'] = y_round\n",
    "datafile.to_csv('base_promo_testset_pred.csv')"
   ]
  }
 ],
 "metadata": {
  "kernelspec": {
   "display_name": "Python 3",
   "language": "python",
   "name": "python3"
  },
  "language_info": {
   "codemirror_mode": {
    "name": "ipython",
    "version": 3
   },
   "file_extension": ".py",
   "mimetype": "text/x-python",
   "name": "python",
   "nbconvert_exporter": "python",
   "pygments_lexer": "ipython3",
   "version": "3.7.3"
  }
 },
 "nbformat": 4,
 "nbformat_minor": 2
}
