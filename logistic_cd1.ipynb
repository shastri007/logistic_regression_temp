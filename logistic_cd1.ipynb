{
 "cells": [
  {
   "cell_type": "code",
   "execution_count": 1,
   "metadata": {},
   "outputs": [
    {
     "name": "stderr",
     "output_type": "stream",
     "text": [
      "Using TensorFlow backend.\n"
     ]
    }
   ],
   "source": [
    "import numpy as np\n",
    "import pandas as pd\n",
    "from sklearn.preprocessing import LabelEncoder\n",
    "from keras.utils import np_utils\n",
    "\n",
    "from sklearn.feature_extraction.text import TfidfVectorizer\n",
    "from sklearn.linear_model import LogisticRegression\n",
    "from sklearn.model_selection import cross_val_score\n",
    "from scipy.sparse import hstack\n",
    "from sklearn.metrics import accuracy_score\n",
    "from sklearn.metrics import confusion_matrix\n",
    "np.random.seed(12345)"
   ]
  },
  {
   "cell_type": "code",
   "execution_count": 2,
   "metadata": {},
   "outputs": [
    {
     "ename": "FileNotFoundError",
     "evalue": "[Errno 2] File b'train (3) (1) (3) (2).csv' does not exist: b'train (3) (1) (3) (2).csv'",
     "output_type": "error",
     "traceback": [
      "\u001b[1;31m---------------------------------------------------------------------------\u001b[0m",
      "\u001b[1;31mFileNotFoundError\u001b[0m                         Traceback (most recent call last)",
      "\u001b[1;32m<ipython-input-2-2db224b6b854>\u001b[0m in \u001b[0;36m<module>\u001b[1;34m\u001b[0m\n\u001b[1;32m----> 1\u001b[1;33m \u001b[0mtrain\u001b[0m\u001b[1;33m=\u001b[0m\u001b[0mpd\u001b[0m\u001b[1;33m.\u001b[0m\u001b[0mread_csv\u001b[0m\u001b[1;33m(\u001b[0m\u001b[1;34m'train (3) (1) (3) (2).csv'\u001b[0m\u001b[1;33m)\u001b[0m\u001b[1;33m\u001b[0m\u001b[1;33m\u001b[0m\u001b[0m\n\u001b[0m\u001b[0;32m      2\u001b[0m \u001b[0mtest\u001b[0m \u001b[1;33m=\u001b[0m \u001b[0mpd\u001b[0m\u001b[1;33m.\u001b[0m\u001b[0mread_csv\u001b[0m\u001b[1;33m(\u001b[0m\u001b[1;34m'train (3) (1) (3) (2).csv'\u001b[0m\u001b[1;33m)\u001b[0m\u001b[1;33m\u001b[0m\u001b[1;33m\u001b[0m\u001b[0m\n",
      "\u001b[1;32mC:\\ProgramData\\Anaconda3\\lib\\site-packages\\pandas\\io\\parsers.py\u001b[0m in \u001b[0;36mparser_f\u001b[1;34m(filepath_or_buffer, sep, delimiter, header, names, index_col, usecols, squeeze, prefix, mangle_dupe_cols, dtype, engine, converters, true_values, false_values, skipinitialspace, skiprows, skipfooter, nrows, na_values, keep_default_na, na_filter, verbose, skip_blank_lines, parse_dates, infer_datetime_format, keep_date_col, date_parser, dayfirst, iterator, chunksize, compression, thousands, decimal, lineterminator, quotechar, quoting, doublequote, escapechar, comment, encoding, dialect, tupleize_cols, error_bad_lines, warn_bad_lines, delim_whitespace, low_memory, memory_map, float_precision)\u001b[0m\n\u001b[0;32m    700\u001b[0m                     skip_blank_lines=skip_blank_lines)\n\u001b[0;32m    701\u001b[0m \u001b[1;33m\u001b[0m\u001b[0m\n\u001b[1;32m--> 702\u001b[1;33m         \u001b[1;32mreturn\u001b[0m \u001b[0m_read\u001b[0m\u001b[1;33m(\u001b[0m\u001b[0mfilepath_or_buffer\u001b[0m\u001b[1;33m,\u001b[0m \u001b[0mkwds\u001b[0m\u001b[1;33m)\u001b[0m\u001b[1;33m\u001b[0m\u001b[1;33m\u001b[0m\u001b[0m\n\u001b[0m\u001b[0;32m    703\u001b[0m \u001b[1;33m\u001b[0m\u001b[0m\n\u001b[0;32m    704\u001b[0m     \u001b[0mparser_f\u001b[0m\u001b[1;33m.\u001b[0m\u001b[0m__name__\u001b[0m \u001b[1;33m=\u001b[0m \u001b[0mname\u001b[0m\u001b[1;33m\u001b[0m\u001b[1;33m\u001b[0m\u001b[0m\n",
      "\u001b[1;32mC:\\ProgramData\\Anaconda3\\lib\\site-packages\\pandas\\io\\parsers.py\u001b[0m in \u001b[0;36m_read\u001b[1;34m(filepath_or_buffer, kwds)\u001b[0m\n\u001b[0;32m    427\u001b[0m \u001b[1;33m\u001b[0m\u001b[0m\n\u001b[0;32m    428\u001b[0m     \u001b[1;31m# Create the parser.\u001b[0m\u001b[1;33m\u001b[0m\u001b[1;33m\u001b[0m\u001b[1;33m\u001b[0m\u001b[0m\n\u001b[1;32m--> 429\u001b[1;33m     \u001b[0mparser\u001b[0m \u001b[1;33m=\u001b[0m \u001b[0mTextFileReader\u001b[0m\u001b[1;33m(\u001b[0m\u001b[0mfilepath_or_buffer\u001b[0m\u001b[1;33m,\u001b[0m \u001b[1;33m**\u001b[0m\u001b[0mkwds\u001b[0m\u001b[1;33m)\u001b[0m\u001b[1;33m\u001b[0m\u001b[1;33m\u001b[0m\u001b[0m\n\u001b[0m\u001b[0;32m    430\u001b[0m \u001b[1;33m\u001b[0m\u001b[0m\n\u001b[0;32m    431\u001b[0m     \u001b[1;32mif\u001b[0m \u001b[0mchunksize\u001b[0m \u001b[1;32mor\u001b[0m \u001b[0miterator\u001b[0m\u001b[1;33m:\u001b[0m\u001b[1;33m\u001b[0m\u001b[1;33m\u001b[0m\u001b[0m\n",
      "\u001b[1;32mC:\\ProgramData\\Anaconda3\\lib\\site-packages\\pandas\\io\\parsers.py\u001b[0m in \u001b[0;36m__init__\u001b[1;34m(self, f, engine, **kwds)\u001b[0m\n\u001b[0;32m    893\u001b[0m             \u001b[0mself\u001b[0m\u001b[1;33m.\u001b[0m\u001b[0moptions\u001b[0m\u001b[1;33m[\u001b[0m\u001b[1;34m'has_index_names'\u001b[0m\u001b[1;33m]\u001b[0m \u001b[1;33m=\u001b[0m \u001b[0mkwds\u001b[0m\u001b[1;33m[\u001b[0m\u001b[1;34m'has_index_names'\u001b[0m\u001b[1;33m]\u001b[0m\u001b[1;33m\u001b[0m\u001b[1;33m\u001b[0m\u001b[0m\n\u001b[0;32m    894\u001b[0m \u001b[1;33m\u001b[0m\u001b[0m\n\u001b[1;32m--> 895\u001b[1;33m         \u001b[0mself\u001b[0m\u001b[1;33m.\u001b[0m\u001b[0m_make_engine\u001b[0m\u001b[1;33m(\u001b[0m\u001b[0mself\u001b[0m\u001b[1;33m.\u001b[0m\u001b[0mengine\u001b[0m\u001b[1;33m)\u001b[0m\u001b[1;33m\u001b[0m\u001b[1;33m\u001b[0m\u001b[0m\n\u001b[0m\u001b[0;32m    896\u001b[0m \u001b[1;33m\u001b[0m\u001b[0m\n\u001b[0;32m    897\u001b[0m     \u001b[1;32mdef\u001b[0m \u001b[0mclose\u001b[0m\u001b[1;33m(\u001b[0m\u001b[0mself\u001b[0m\u001b[1;33m)\u001b[0m\u001b[1;33m:\u001b[0m\u001b[1;33m\u001b[0m\u001b[1;33m\u001b[0m\u001b[0m\n",
      "\u001b[1;32mC:\\ProgramData\\Anaconda3\\lib\\site-packages\\pandas\\io\\parsers.py\u001b[0m in \u001b[0;36m_make_engine\u001b[1;34m(self, engine)\u001b[0m\n\u001b[0;32m   1120\u001b[0m     \u001b[1;32mdef\u001b[0m \u001b[0m_make_engine\u001b[0m\u001b[1;33m(\u001b[0m\u001b[0mself\u001b[0m\u001b[1;33m,\u001b[0m \u001b[0mengine\u001b[0m\u001b[1;33m=\u001b[0m\u001b[1;34m'c'\u001b[0m\u001b[1;33m)\u001b[0m\u001b[1;33m:\u001b[0m\u001b[1;33m\u001b[0m\u001b[1;33m\u001b[0m\u001b[0m\n\u001b[0;32m   1121\u001b[0m         \u001b[1;32mif\u001b[0m \u001b[0mengine\u001b[0m \u001b[1;33m==\u001b[0m \u001b[1;34m'c'\u001b[0m\u001b[1;33m:\u001b[0m\u001b[1;33m\u001b[0m\u001b[1;33m\u001b[0m\u001b[0m\n\u001b[1;32m-> 1122\u001b[1;33m             \u001b[0mself\u001b[0m\u001b[1;33m.\u001b[0m\u001b[0m_engine\u001b[0m \u001b[1;33m=\u001b[0m \u001b[0mCParserWrapper\u001b[0m\u001b[1;33m(\u001b[0m\u001b[0mself\u001b[0m\u001b[1;33m.\u001b[0m\u001b[0mf\u001b[0m\u001b[1;33m,\u001b[0m \u001b[1;33m**\u001b[0m\u001b[0mself\u001b[0m\u001b[1;33m.\u001b[0m\u001b[0moptions\u001b[0m\u001b[1;33m)\u001b[0m\u001b[1;33m\u001b[0m\u001b[1;33m\u001b[0m\u001b[0m\n\u001b[0m\u001b[0;32m   1123\u001b[0m         \u001b[1;32melse\u001b[0m\u001b[1;33m:\u001b[0m\u001b[1;33m\u001b[0m\u001b[1;33m\u001b[0m\u001b[0m\n\u001b[0;32m   1124\u001b[0m             \u001b[1;32mif\u001b[0m \u001b[0mengine\u001b[0m \u001b[1;33m==\u001b[0m \u001b[1;34m'python'\u001b[0m\u001b[1;33m:\u001b[0m\u001b[1;33m\u001b[0m\u001b[1;33m\u001b[0m\u001b[0m\n",
      "\u001b[1;32mC:\\ProgramData\\Anaconda3\\lib\\site-packages\\pandas\\io\\parsers.py\u001b[0m in \u001b[0;36m__init__\u001b[1;34m(self, src, **kwds)\u001b[0m\n\u001b[0;32m   1851\u001b[0m         \u001b[0mkwds\u001b[0m\u001b[1;33m[\u001b[0m\u001b[1;34m'usecols'\u001b[0m\u001b[1;33m]\u001b[0m \u001b[1;33m=\u001b[0m \u001b[0mself\u001b[0m\u001b[1;33m.\u001b[0m\u001b[0musecols\u001b[0m\u001b[1;33m\u001b[0m\u001b[1;33m\u001b[0m\u001b[0m\n\u001b[0;32m   1852\u001b[0m \u001b[1;33m\u001b[0m\u001b[0m\n\u001b[1;32m-> 1853\u001b[1;33m         \u001b[0mself\u001b[0m\u001b[1;33m.\u001b[0m\u001b[0m_reader\u001b[0m \u001b[1;33m=\u001b[0m \u001b[0mparsers\u001b[0m\u001b[1;33m.\u001b[0m\u001b[0mTextReader\u001b[0m\u001b[1;33m(\u001b[0m\u001b[0msrc\u001b[0m\u001b[1;33m,\u001b[0m \u001b[1;33m**\u001b[0m\u001b[0mkwds\u001b[0m\u001b[1;33m)\u001b[0m\u001b[1;33m\u001b[0m\u001b[1;33m\u001b[0m\u001b[0m\n\u001b[0m\u001b[0;32m   1854\u001b[0m         \u001b[0mself\u001b[0m\u001b[1;33m.\u001b[0m\u001b[0munnamed_cols\u001b[0m \u001b[1;33m=\u001b[0m \u001b[0mself\u001b[0m\u001b[1;33m.\u001b[0m\u001b[0m_reader\u001b[0m\u001b[1;33m.\u001b[0m\u001b[0munnamed_cols\u001b[0m\u001b[1;33m\u001b[0m\u001b[1;33m\u001b[0m\u001b[0m\n\u001b[0;32m   1855\u001b[0m \u001b[1;33m\u001b[0m\u001b[0m\n",
      "\u001b[1;32mpandas/_libs/parsers.pyx\u001b[0m in \u001b[0;36mpandas._libs.parsers.TextReader.__cinit__\u001b[1;34m()\u001b[0m\n",
      "\u001b[1;32mpandas/_libs/parsers.pyx\u001b[0m in \u001b[0;36mpandas._libs.parsers.TextReader._setup_parser_source\u001b[1;34m()\u001b[0m\n",
      "\u001b[1;31mFileNotFoundError\u001b[0m: [Errno 2] File b'train (3) (1) (3) (2).csv' does not exist: b'train (3) (1) (3) (2).csv'"
     ]
    }
   ],
   "source": [
    "train=pd.read_csv('train.csv')\n",
    "test = pd.read_csv('train.csv')"
   ]
  },
  {
   "cell_type": "code",
   "execution_count": 624,
   "metadata": {},
   "outputs": [
    {
     "data": {
      "text/html": [
       "<div>\n",
       "<style>\n",
       "    .dataframe thead tr:only-child th {\n",
       "        text-align: right;\n",
       "    }\n",
       "\n",
       "    .dataframe thead th {\n",
       "        text-align: left;\n",
       "    }\n",
       "\n",
       "    .dataframe tbody tr th {\n",
       "        vertical-align: top;\n",
       "    }\n",
       "</style>\n",
       "<table border=\"1\" class=\"dataframe\">\n",
       "  <thead>\n",
       "    <tr style=\"text-align: right;\">\n",
       "      <th></th>\n",
       "      <th>id</th>\n",
       "      <th>App Version Code</th>\n",
       "      <th>App Version Name</th>\n",
       "      <th>Review Text</th>\n",
       "      <th>Review Title</th>\n",
       "      <th>Star Rating</th>\n",
       "    </tr>\n",
       "  </thead>\n",
       "  <tbody>\n",
       "    <tr>\n",
       "      <th>0</th>\n",
       "      <td>b817b0f0-a2f8-4c9d-a5f6-d3fbf8b1d7e9</td>\n",
       "      <td>NaN</td>\n",
       "      <td>NaN</td>\n",
       "      <td>Very bad wallet balance not use.</td>\n",
       "      <td>NaN</td>\n",
       "      <td>1</td>\n",
       "    </tr>\n",
       "    <tr>\n",
       "      <th>1</th>\n",
       "      <td>c7844e8f-56c1-487b-ae3e-df2fdf4c1767</td>\n",
       "      <td>43.0</td>\n",
       "      <td>2.30</td>\n",
       "      <td>Froud app i recharge 199 but not done also sen...</td>\n",
       "      <td>NaN</td>\n",
       "      <td>1</td>\n",
       "    </tr>\n",
       "    <tr>\n",
       "      <th>2</th>\n",
       "      <td>93ff57f7-9e02-4fa9-b779-3db82b8af0a4</td>\n",
       "      <td>52.0</td>\n",
       "      <td>2.12</td>\n",
       "      <td>Waste to write comments also</td>\n",
       "      <td>Waste no use</td>\n",
       "      <td>2</td>\n",
       "    </tr>\n",
       "    <tr>\n",
       "      <th>3</th>\n",
       "      <td>df2dcdef-c09a-4f35-afab-e1231d3fec9a</td>\n",
       "      <td>62.0</td>\n",
       "      <td>2.21</td>\n",
       "      <td>Nice apo</td>\n",
       "      <td>NaN</td>\n",
       "      <td>5</td>\n",
       "    </tr>\n",
       "    <tr>\n",
       "      <th>4</th>\n",
       "      <td>11f8f968-4cec-4424-8427-9709ab05b5be</td>\n",
       "      <td>69.0</td>\n",
       "      <td>2.28</td>\n",
       "      <td>Good nice app</td>\n",
       "      <td>NaN</td>\n",
       "      <td>5</td>\n",
       "    </tr>\n",
       "  </tbody>\n",
       "</table>\n",
       "</div>"
      ],
      "text/plain": [
       "                                     id  App Version Code  App Version Name  \\\n",
       "0  b817b0f0-a2f8-4c9d-a5f6-d3fbf8b1d7e9               NaN               NaN   \n",
       "1  c7844e8f-56c1-487b-ae3e-df2fdf4c1767              43.0              2.30   \n",
       "2  93ff57f7-9e02-4fa9-b779-3db82b8af0a4              52.0              2.12   \n",
       "3  df2dcdef-c09a-4f35-afab-e1231d3fec9a              62.0              2.21   \n",
       "4  11f8f968-4cec-4424-8427-9709ab05b5be              69.0              2.28   \n",
       "\n",
       "                                         Review Text  Review Title  \\\n",
       "0                   Very bad wallet balance not use.           NaN   \n",
       "1  Froud app i recharge 199 but not done also sen...           NaN   \n",
       "2                       Waste to write comments also  Waste no use   \n",
       "3                                           Nice apo           NaN   \n",
       "4                                      Good nice app           NaN   \n",
       "\n",
       "   Star Rating  \n",
       "0            1  \n",
       "1            1  \n",
       "2            2  \n",
       "3            5  \n",
       "4            5  "
      ]
     },
     "execution_count": 624,
     "metadata": {},
     "output_type": "execute_result"
    }
   ],
   "source": [
    "train.head()"
   ]
  },
  {
   "cell_type": "code",
   "execution_count": 625,
   "metadata": {
    "collapsed": true
   },
   "outputs": [],
   "source": [
    "train['STORY']=train['Review Text'].str.replace(':\\)','emojihappy1')\n",
    "train['STORY']=train['STORY'].str.replace(':P','emojihappy2')\n",
    "train['STORY']=train['STORY'].str.replace(':p','emojihappy3')\n",
    "train['STORY']=train['STORY'].str.replace(':>','emojihappy4')\n",
    "train['STORY']=train['STORY'].str.replace(':3','emojihappy5')\n",
    "train['STORY']=train['STORY'].str.replace(':D','emojihappy6')\n",
    "train['STORY']=train['STORY'].str.replace('XD','emojihappy7')\n",
    "train['STORY']=train['STORY'].str.replace('<3','emojihappy8')\n",
    "train['STORY']=train['STORY'].str.replace(':\\(','emojisad9')\n",
    "train['STORY']=train['STORY'].str.replace(':<','emojisad10')\n",
    "train['STORY']=train['STORY'].str.replace('>:\\(','emojisad11')\n",
    "train['STORY']=train['STORY'].str.replace('(@)\\w+','mentiontoken')\n",
    "train['STORY']=train['STORY'].str.replace('http(s)*:(\\S)*','linktoken')\n",
    "train['STORY']=train['STORY'].str.replace('[^A-Za-z0-9(),!?\\'\\`]',' ')\n",
    "train['STORY']=train['STORY'].str.replace('[^\\w\\s]','')"
   ]
  },
  {
   "cell_type": "code",
   "execution_count": 626,
   "metadata": {
    "collapsed": true
   },
   "outputs": [],
   "source": [
    "train['STORY1']=train['Review Title'].str.replace(':\\)','emojihappy1')\n",
    "train['STORY1']=train['STORY1'].str.replace(':P','emojihappy2')\n",
    "train['STORY1']=train['STORY1'].str.replace(':p','emojihappy3')\n",
    "train['STORY1']=train['STORY1'].str.replace(':>','emojihappy4')\n",
    "train['STORY1']=train['STORY1'].str.replace(':3','emojihappy5')\n",
    "train['STORY1']=train['STORY1'].str.replace(':D','emojihappy6')\n",
    "train['STORY1']=train['STORY1'].str.replace('XD','emojihappy7')\n",
    "train['STORY1']=train['STORY1'].str.replace('<3','emojihappy8')\n",
    "train['STORY1']=train['STORY1'].str.replace(':\\(','emojisad9')\n",
    "train['STORY1']=train['STORY1'].str.replace(':<','emojisad10')\n",
    "train['STORY1']=train['STORY1'].str.replace('>:\\(','emojisad11')\n",
    "train['STORY1']=train['STORY1'].str.replace('(@)\\w+','mentiontoken')\n",
    "train['STORY1']=train['STORY1'].str.replace('http(s)*:(\\S)*','linktoken')\n",
    "train['STORY1']=train['STORY1'].str.replace('[^A-Za-z0-9(),!?\\'\\`]',' ')\n",
    "train['STORY1']=train['STORY1'].str.replace('[^\\w\\s]','')"
   ]
  },
  {
   "cell_type": "code",
   "execution_count": 627,
   "metadata": {},
   "outputs": [],
   "source": [
    "y = train['Star Rating']\n",
    "y1=train['Star Rating']\n",
    "del train['Star Rating']\n",
    "encoder = LabelEncoder()\n",
    "encoder.fit(y)\n",
    "encoded_Y = encoder.transform(y)\n",
    "# convert integers to dummy variables (i.e. one hot encoded)\n",
    "dummy_y = np_utils.to_categorical(encoded_Y)\n",
    "dummy_y=pd.DataFrame(dummy_y)\n",
    "dummy_y.columns=['Level_0','Level_1','Level_2','Level_3','Level_4']"
   ]
  },
  {
   "cell_type": "code",
   "execution_count": 628,
   "metadata": {
    "collapsed": true
   },
   "outputs": [],
   "source": [
    "train1=pd.concat([train['STORY'], dummy_y], axis=1)"
   ]
  },
  {
   "cell_type": "code",
   "execution_count": 629,
   "metadata": {},
   "outputs": [
    {
     "data": {
      "text/html": [
       "<div>\n",
       "<style>\n",
       "    .dataframe thead tr:only-child th {\n",
       "        text-align: right;\n",
       "    }\n",
       "\n",
       "    .dataframe thead th {\n",
       "        text-align: left;\n",
       "    }\n",
       "\n",
       "    .dataframe tbody tr th {\n",
       "        vertical-align: top;\n",
       "    }\n",
       "</style>\n",
       "<table border=\"1\" class=\"dataframe\">\n",
       "  <thead>\n",
       "    <tr style=\"text-align: right;\">\n",
       "      <th></th>\n",
       "      <th>STORY</th>\n",
       "      <th>Level_0</th>\n",
       "      <th>Level_1</th>\n",
       "      <th>Level_2</th>\n",
       "      <th>Level_3</th>\n",
       "      <th>Level_4</th>\n",
       "    </tr>\n",
       "  </thead>\n",
       "  <tbody>\n",
       "    <tr>\n",
       "      <th>0</th>\n",
       "      <td>Very bad wallet balance not use</td>\n",
       "      <td>1.0</td>\n",
       "      <td>0.0</td>\n",
       "      <td>0.0</td>\n",
       "      <td>0.0</td>\n",
       "      <td>0.0</td>\n",
       "    </tr>\n",
       "    <tr>\n",
       "      <th>1</th>\n",
       "      <td>Froud app i recharge 199 but not done also sen...</td>\n",
       "      <td>1.0</td>\n",
       "      <td>0.0</td>\n",
       "      <td>0.0</td>\n",
       "      <td>0.0</td>\n",
       "      <td>0.0</td>\n",
       "    </tr>\n",
       "    <tr>\n",
       "      <th>2</th>\n",
       "      <td>Waste to write comments also</td>\n",
       "      <td>0.0</td>\n",
       "      <td>1.0</td>\n",
       "      <td>0.0</td>\n",
       "      <td>0.0</td>\n",
       "      <td>0.0</td>\n",
       "    </tr>\n",
       "    <tr>\n",
       "      <th>3</th>\n",
       "      <td>Nice apo</td>\n",
       "      <td>0.0</td>\n",
       "      <td>0.0</td>\n",
       "      <td>0.0</td>\n",
       "      <td>0.0</td>\n",
       "      <td>1.0</td>\n",
       "    </tr>\n",
       "    <tr>\n",
       "      <th>4</th>\n",
       "      <td>Good nice app</td>\n",
       "      <td>0.0</td>\n",
       "      <td>0.0</td>\n",
       "      <td>0.0</td>\n",
       "      <td>0.0</td>\n",
       "      <td>1.0</td>\n",
       "    </tr>\n",
       "  </tbody>\n",
       "</table>\n",
       "</div>"
      ],
      "text/plain": [
       "                                               STORY  Level_0  Level_1  \\\n",
       "0                   Very bad wallet balance not use       1.0      0.0   \n",
       "1  Froud app i recharge 199 but not done also sen...      1.0      0.0   \n",
       "2                       Waste to write comments also      0.0      1.0   \n",
       "3                                           Nice apo      0.0      0.0   \n",
       "4                                      Good nice app      0.0      0.0   \n",
       "\n",
       "   Level_2  Level_3  Level_4  \n",
       "0      0.0      0.0      0.0  \n",
       "1      0.0      0.0      0.0  \n",
       "2      0.0      0.0      0.0  \n",
       "3      0.0      0.0      1.0  \n",
       "4      0.0      0.0      1.0  "
      ]
     },
     "execution_count": 629,
     "metadata": {},
     "output_type": "execute_result"
    }
   ],
   "source": [
    "train1.head()"
   ]
  },
  {
   "cell_type": "code",
   "execution_count": 630,
   "metadata": {
    "collapsed": true
   },
   "outputs": [],
   "source": [
    "class_names = ['Level_0','Level_1','Level_2','Level_3','Level_4']"
   ]
  },
  {
   "cell_type": "code",
   "execution_count": 631,
   "metadata": {
    "collapsed": true
   },
   "outputs": [],
   "source": [
    "test['STORY']=test['Review Text'].str.replace(':\\)','emojihappy1')\n",
    "test['STORY']=test['STORY'].str.replace(':P','emojihappy2')\n",
    "test['STORY']=test['STORY'].str.replace(':p','emojihappy3')\n",
    "test['STORY']=test['STORY'].str.replace(':>','emojihappy4')\n",
    "test['STORY']=test['STORY'].str.replace(':3','emojihappy5')\n",
    "test['STORY']=test['STORY'].str.replace(':D','emojihappy6')\n",
    "test['STORY']=test['STORY'].str.replace('XD','emojihappy7')\n",
    "test['STORY']=test['STORY'].str.replace('<3','emojihappy8')\n",
    "test['STORY']=test['STORY'].str.replace(':\\(','emojisad9')\n",
    "test['STORY']=test['STORY'].str.replace(':<','emojisad10')\n",
    "test['STORY']=test['STORY'].str.replace('>:\\(','emojisad11')\n",
    "test['STORY']=test['STORY'].str.replace('(@)\\w+','mentiontoken')\n",
    "test['STORY']=test['STORY'].str.replace('http(s)*:(\\S)*','linktoken')\n",
    "test['STORY']=test['STORY'].str.replace('[^A-Za-z0-9(),!?\\'\\`]',' ')\n",
    "test['STORY']=test['STORY'].str.replace('[^\\w\\s]','')"
   ]
  },
  {
   "cell_type": "code",
   "execution_count": 632,
   "metadata": {
    "collapsed": true
   },
   "outputs": [],
   "source": [
    "test['STORY1']=test['Review Title'].str.replace(':\\)','emojihappy1')\n",
    "test['STORY1']=test['STORY1'].str.replace(':P','emojihappy2')\n",
    "test['STORY1']=test['STORY1'].str.replace(':p','emojihappy3')\n",
    "test['STORY1']=test['STORY1'].str.replace(':>','emojihappy4')\n",
    "test['STORY1']=test['STORY1'].str.replace(':3','emojihappy5')\n",
    "test['STORY1']=test['STORY1'].str.replace(':D','emojihappy6')\n",
    "test['STORY1']=test['STORY1'].str.replace('XD','emojihappy7')\n",
    "test['STORY1']=test['STORY1'].str.replace('<3','emojihappy8')\n",
    "test['STORY1']=test['STORY1'].str.replace(':\\(','emojisad9')\n",
    "test['STORY1']=test['STORY1'].str.replace(':<','emojisad10')\n",
    "test['STORY1']=test['STORY1'].str.replace('>:\\(','emojisad11')\n",
    "test['STORY1']=test['STORY1'].str.replace('(@)\\w+','mentiontoken')\n",
    "test['STORY1']=test['STORY1'].str.replace('http(s)*:(\\S)*','linktoken')\n",
    "test['STORY1']=test['STORY1'].str.replace('[^A-Za-z0-9(),!?\\'\\`]',' ')\n",
    "test['STORY1']=test['STORY1'].str.replace('[^\\w\\s]','')"
   ]
  },
  {
   "cell_type": "code",
   "execution_count": 633,
   "metadata": {
    "collapsed": true
   },
   "outputs": [],
   "source": [
    "test['index1'] = test.index\n",
    "train['index1'] = train.index"
   ]
  },
  {
   "cell_type": "code",
   "execution_count": 634,
   "metadata": {},
   "outputs": [],
   "source": [
    "train_text1 = train['STORY']\n",
    "train_text2 = train['STORY1']\n",
    "\n",
    "\n",
    "test_text1 = test['STORY']\n",
    "test_text2 = test['STORY1']\n",
    "\n",
    "\n",
    "all_text = pd.concat([train_text1,train_text2,test_text1,test_text2])\n",
    "\n",
    "\n",
    "all_text=all_text.fillna('None')\n",
    "train_text1=train_text1.fillna('None')\n",
    "test_text1=test_text1.fillna('None')\n",
    "\n",
    "train_text2=train_text2.fillna('None')\n",
    "test_text2=test_text2.fillna('None')"
   ]
  },
  {
   "cell_type": "code",
   "execution_count": 635,
   "metadata": {
    "collapsed": true
   },
   "outputs": [],
   "source": [
    "def predict_one(x, y, xt):\n",
    "    c = LogisticRegression(C=8, class_weight='balanced') #4/6\n",
    "    c.fit(x, y)\n",
    "    #y_pred = c.predict_proba(xt)\n",
    "    y_pred = c.predict_proba(x)\n",
    "    idx = list(c.classes_).index(1)\n",
    "    return y_pred[:, idx]"
   ]
  },
  {
   "cell_type": "code",
   "execution_count": 636,
   "metadata": {},
   "outputs": [
    {
     "name": "stderr",
     "output_type": "stream",
     "text": [
      "C:\\Users\\pf416e\\AppData\\Local\\Continuum\\Anaconda3_v1\\lib\\site-packages\\sklearn\\feature_extraction\\text.py:1059: FutureWarning: Conversion of the second argument of issubdtype from `float` to `np.floating` is deprecated. In future, it will be treated as `np.float64 == np.dtype(float).type`.\n",
      "  if hasattr(X, 'dtype') and np.issubdtype(X.dtype, np.float):\n"
     ]
    }
   ],
   "source": [
    "word_vectorizer = TfidfVectorizer(\n",
    "    sublinear_tf=True,\n",
    "    strip_accents='unicode',\n",
    "    analyzer='word',\n",
    "    token_pattern=r'\\w{1,}',\n",
    "    stop_words='english',\n",
    "    ngram_range=(1, 3), #(1,1)\n",
    "    max_features=10000)\n",
    "word_vectorizer.fit(all_text)\n",
    "train_word_features1 = word_vectorizer.transform(train_text1)\n",
    "test_word_features1 = word_vectorizer.transform(test_text1)\n",
    "\n",
    "train_word_features2 = word_vectorizer.transform(train_text2)\n",
    "test_word_features2 = word_vectorizer.transform(test_text2)"
   ]
  },
  {
   "cell_type": "code",
   "execution_count": 637,
   "metadata": {},
   "outputs": [
    {
     "name": "stderr",
     "output_type": "stream",
     "text": [
      "C:\\Users\\pf416e\\AppData\\Local\\Continuum\\Anaconda3_v1\\lib\\site-packages\\sklearn\\feature_extraction\\text.py:1059: FutureWarning: Conversion of the second argument of issubdtype from `float` to `np.floating` is deprecated. In future, it will be treated as `np.float64 == np.dtype(float).type`.\n",
      "  if hasattr(X, 'dtype') and np.issubdtype(X.dtype, np.float):\n"
     ]
    }
   ],
   "source": [
    "char_vectorizer = TfidfVectorizer(\n",
    "    sublinear_tf=True,\n",
    "    strip_accents='unicode',\n",
    "    analyzer='char',\n",
    "    stop_words='english',\n",
    "    ngram_range=(2, 6),\n",
    "    max_features=90000) \n",
    "char_vectorizer.fit(all_text)\n",
    "train_char_features1 = char_vectorizer.transform(train_text1)\n",
    "test_char_features1 = char_vectorizer.transform(test_text1)\n",
    "\n",
    "train_char_features2 = char_vectorizer.transform(train_text2)\n",
    "test_char_features2 = char_vectorizer.transform(test_text2)"
   ]
  },
  {
   "cell_type": "code",
   "execution_count": 638,
   "metadata": {
    "collapsed": true
   },
   "outputs": [],
   "source": [
    "train_char_features=hstack([train_char_features1, train_char_features2])\n",
    "test_char_features=hstack([test_char_features1,test_char_features2])\n",
    "\n",
    "train_word_features=hstack([train_word_features1,train_word_features2])\n",
    "test_word_features=hstack([test_word_features1,test_word_features2])\n",
    "\n",
    "\n",
    "train_features = hstack([train_char_features1, train_word_features1,train_char_features2, train_word_features2])\n",
    "test_features = hstack([test_char_features1, test_word_features1,test_char_features2, test_word_features2])"
   ]
  },
  {
   "cell_type": "code",
   "execution_count": 639,
   "metadata": {},
   "outputs": [],
   "source": [
    "sub_c = pd.DataFrame({'id': train['index1']})\n",
    "sub_w = pd.DataFrame({'id': train['index1']})\n",
    "sub_j = pd.DataFrame({'id': train['index1']})\n",
    "sub_mean = pd.DataFrame({'id': train['index1']})\n",
    "sub_max = pd.DataFrame({'id': train['index1']})"
   ]
  },
  {
   "cell_type": "code",
   "execution_count": 640,
   "metadata": {},
   "outputs": [
    {
     "name": "stdout",
     "output_type": "stream",
     "text": [
      "predict Level_0\n",
      "predict Level_1\n",
      "predict Level_2\n",
      "predict Level_3\n",
      "predict Level_4\n"
     ]
    }
   ],
   "source": [
    "for t in class_names:\n",
    "    y = train1[t].values\n",
    "    y_pred_c = predict_one(train_char_features, y, test_char_features)\n",
    "    y_pred_w = predict_one(train_word_features, y, test_word_features)\n",
    "    y_pred_j = predict_one(train_features, y, test_features)\n",
    "    \n",
    "    sub_c[t] = y_pred_c\n",
    "    sub_w[t] = y_pred_w\n",
    "    sub_j[t] = y_pred_j #best\n",
    "    sub_mean[t] = 0.5 * (y_pred_c + y_pred_w)\n",
    "    sub_max[t] = np.maximum(y_pred_c, y_pred_w)\n",
    "    print('predict {}'.format(t))"
   ]
  },
  {
   "cell_type": "code",
   "execution_count": 641,
   "metadata": {},
   "outputs": [
    {
     "name": "stdout",
     "output_type": "stream",
     "text": [
      "0.9487089408044967\n",
      "[[1782    2    0    2    2]\n",
      " [   1  147    1    0    5]\n",
      " [   1    0  198    2   16]\n",
      " [   1    1    4  437  168]\n",
      " [   8    0   15   63 2837]]\n"
     ]
    }
   ],
   "source": [
    "del sub_j['id']\n",
    "pred=sub_j.values\n",
    "labels = np.argmax(pred, axis=-1)\n",
    "labels1=labels+1\n",
    "\n",
    "from sklearn.metrics import accuracy_score\n",
    "print(accuracy_score(y1, labels1))\n",
    "\n",
    "print(confusion_matrix(y1, labels1))"
   ]
  },
  {
   "cell_type": "code",
   "execution_count": 642,
   "metadata": {},
   "outputs": [
    {
     "name": "stdout",
     "output_type": "stream",
     "text": [
      "0.9425610398735289\n",
      "[[1777    2    0    2    7]\n",
      " [   1  146    1    0    6]\n",
      " [   1    0  197    1   18]\n",
      " [   3    1    5  420  182]\n",
      " [  17    0   16   64 2826]]\n"
     ]
    }
   ],
   "source": [
    "del sub_mean['id']\n",
    "pred=sub_mean.values\n",
    "labels = np.argmax(pred, axis=-1)\n",
    "labels1=labels+1\n",
    "\n",
    "from sklearn.metrics import accuracy_score\n",
    "print(accuracy_score(y1, labels1))\n",
    "\n",
    "print(confusion_matrix(y1, labels1))"
   ]
  },
  {
   "cell_type": "code",
   "execution_count": 643,
   "metadata": {},
   "outputs": [
    {
     "name": "stdout",
     "output_type": "stream",
     "text": [
      "0.9265764974530125\n",
      "[[1753    5    5    4   21]\n",
      " [   1  143    1    0    9]\n",
      " [   3    0  186    0   28]\n",
      " [   6    1    7  397  200]\n",
      " [  19    1   29   78 2796]]\n"
     ]
    }
   ],
   "source": [
    "del sub_w['id']\n",
    "pred=sub_w.values\n",
    "labels = np.argmax(pred, axis=-1)\n",
    "labels1=labels+1\n",
    "\n",
    "from sklearn.metrics import accuracy_score\n",
    "print(accuracy_score(y1, labels1))\n",
    "\n",
    "print(confusion_matrix(y1, labels1))"
   ]
  },
  {
   "cell_type": "code",
   "execution_count": 644,
   "metadata": {},
   "outputs": [
    {
     "name": "stdout",
     "output_type": "stream",
     "text": [
      "0.9423853855612155\n",
      "[[1780    3    0    2    3]\n",
      " [   1  147    1    0    5]\n",
      " [   2    0  197    2   16]\n",
      " [   2    1    4  426  178]\n",
      " [  19    0   15   74 2815]]\n"
     ]
    }
   ],
   "source": [
    "del sub_c['id']\n",
    "pred=sub_c.values\n",
    "labels = np.argmax(pred, axis=-1)\n",
    "labels1=labels+1\n",
    "\n",
    "print(accuracy_score(y1, labels1))\n",
    "\n",
    "print(confusion_matrix(y1, labels1))"
   ]
  },
  {
   "cell_type": "code",
   "execution_count": 645,
   "metadata": {},
   "outputs": [
    {
     "name": "stdout",
     "output_type": "stream",
     "text": [
      "0.9381696820656947\n",
      "[[1771    4    4    3    6]\n",
      " [   1  147    1    0    5]\n",
      " [   3    0  195    1   18]\n",
      " [   4    1    8  412  186]\n",
      " [  18    1   24   64 2816]]\n"
     ]
    }
   ],
   "source": [
    "del sub_max['id']\n",
    "pred=sub_max.values\n",
    "labels = np.argmax(pred, axis=-1)\n",
    "labels1=labels+1\n",
    "\n",
    "from sklearn.metrics import accuracy_score\n",
    "from sklearn.metrics import confusion_matrix\n",
    "print(accuracy_score(y1, labels1))\n",
    "\n",
    "print(confusion_matrix(y1, labels1))"
   ]
  },
  {
   "cell_type": "code",
   "execution_count": null,
   "metadata": {
    "collapsed": true
   },
   "outputs": [],
   "source": []
  }
 ],
 "metadata": {
  "kernelspec": {
   "display_name": "Python 3",
   "language": "python",
   "name": "python3"
  },
  "language_info": {
   "codemirror_mode": {
    "name": "ipython",
    "version": 3
   },
   "file_extension": ".py",
   "mimetype": "text/x-python",
   "name": "python",
   "nbconvert_exporter": "python",
   "pygments_lexer": "ipython3",
   "version": "3.7.3"
  }
 },
 "nbformat": 4,
 "nbformat_minor": 2
}
