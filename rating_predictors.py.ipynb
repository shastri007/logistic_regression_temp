{
 "cells": [
  {
   "cell_type": "code",
   "execution_count": null,
   "metadata": {},
   "outputs": [],
   "source": [
    "# import libraries for data parasing\n",
    "import pandas as pd\n",
    "import numpy as np\n",
    "import random as rnd\n",
    "from sklearn.preprocessing import LabelEncoder\n",
    "from keras.utils import np_utils\n",
    "import re\n",
    "from scipy.sparse import hstack\n",
    "from scipy.stats import uniform\n",
    "\n",
    "\n",
    "# import plotting libraries\n",
    "import seaborn as sns\n",
    "import matplotlib.pyplot as plt\n",
    "%matplotlib inline\n",
    "\n",
    "# import ML models\n",
    "from sklearn.linear_model import SGDClassifier\n",
    "from sklearn.tree import DecisionTreeClassifier\n",
    "from sklearn.linear_model import Perceptron\n",
    "from sklearn.linear_model import LogisticRegression\n",
    "from sklearn.naive_bayes import GaussianNB\n",
    "from sklearn.neighbors import KNeighborsClassifier\n",
    "from sklearn.ensemble import RandomForestClassifier\n",
    "from sklearn.svm import SVC, LinearSVC\n",
    "from sklearn.model_selection import train_test_split,RandomizedSearchCV,GridSearchCV\n",
    "from sklearn.metrics import f1_score,accuracy_score,confusion_matrix\n",
    "\n",
    "from sklearn.feature_extraction.text import TfidfVectorizer\n"
   ]
  },
  {
   "cell_type": "code",
   "execution_count": null,
   "metadata": {},
   "outputs": [],
   "source": [
    "train = pd.read_csv('./data/train (3) (1) (3) (2).csv')\n",
    "test = pd.read_csv('./data/test (3) (1) (3) (2).csv')"
   ]
  },
  {
   "cell_type": "code",
   "execution_count": null,
   "metadata": {
    "scrolled": true
   },
   "outputs": [],
   "source": [
    "test.head()\n",
    "\n"
   ]
  },
  {
   "cell_type": "code",
   "execution_count": null,
   "metadata": {},
   "outputs": [],
   "source": [
    "# test data set is not useful as it has no Star Rating, hence strategy is split training data into 80:20"
   ]
  },
  {
   "cell_type": "code",
   "execution_count": null,
   "metadata": {},
   "outputs": [],
   "source": [
    "train.head()"
   ]
  },
  {
   "cell_type": "code",
   "execution_count": null,
   "metadata": {},
   "outputs": [],
   "source": [
    "# fill nan with None and remove the unnecessory columns as app version and version name\n",
    "train = train.fillna('None')\n",
    "#test = test.fillna('None')  test doesnt have Star Rating, it wont be useful, hence we split the training data itself.\n",
    "train = train[['id','Review Text','Review Title','Star Rating']]\n",
    "#test = test[['id','Review Text','Review Title','Star Rating']]\n",
    "train.head()\n",
    "\n"
   ]
  },
  {
   "cell_type": "code",
   "execution_count": null,
   "metadata": {},
   "outputs": [],
   "source": [
    "# Text Cleaning function\n",
    "def clean_text(x):\n",
    "    x = str(x)\n",
    "    punctuation_replacement = {'`': \"'\", '′': \"'\", '“':'\"', '”': '\"', '‘': \"'\"}\n",
    "\n",
    "    charector_stripping = [',', '.', '\"', ':', ')', '(', '-', '|', ';', \"'\", '[', ']', '>', '=', '+', '\\\\', '•',  '~', '@', \n",
    "                 '·', '_', '{', '}', '©', '^', '®', '`',  '<', '→', '°', '€', '™', '›',  '♥', '←', '×', '§', '″', '′', 'Â', '█', '½', 'à', '…', \n",
    "                 '“', '★', '”', '–', '●', 'â', '►', '−', '¢', '²', '¬', '░', '¶', '↑', '±', '¿', '▾', '═', '¦', '║', '―', '¥', '▓', '—', '‹', '─', \n",
    "                 '▒', '：', '¼', '⊕', '▼', '▪', '†', '■', '’', '▀', '¨', '▄', '♫', '☆', 'é', '¯', '♦', '¤', '▲', 'è', '¸', '¾', 'Ã', '⋅', '‘', '∞', \n",
    "                 '∙', '）', '↓', '、', '│', '（', '»', '，', '♪', '╩', '╚', '³', '・', '╦', '╣', '╔', '╗', '▬', '❤', 'ï', 'Ø', '¹', '≤', '‡', '√', ]\n",
    "\n",
    "    punctuation = ['!', '?', '$', '&', '/', '%', '#', '*','£']\n",
    "    \n",
    "    x = x.lower()\n",
    "    \n",
    "    x = re.sub(r\"(https?:\\/\\/(?:www\\.|(?!www))[a-zA-Z0-9][a-zA-Z0-9-]+[a-zA-Z0-9]\\.[^\\s]{2,}|www\\.[a-zA-Z0-9][a-zA-Z0-9-]+[a-zA-Z0-9]\\.[^\\s]{2,}|https?:\\/\\/(?:www\\.|(?!www))[a-zA-Z0-9]\\.[^\\s]{2,}|www\\.[a-zA-Z0-9]\\.[^\\s]{2,})\", \"url\", x)\n",
    "    \n",
    "    for k, v in punctuation_replacement.items():\n",
    "        x = x.replace(k, f' {v} ')\n",
    "        \n",
    "    for punct in charector_stripping:\n",
    "        x = x.replace(punct, ' ') \n",
    "    \n",
    "    for punct in punctuation:\n",
    "        x = x.replace(punct, f' {punct} ')\n",
    "        \n",
    "    x = x.replace(\" '\", \" \")\n",
    "    x = x.replace(\"' \", \" \")\n",
    "        \n",
    "    return x"
   ]
  },
  {
   "cell_type": "code",
   "execution_count": null,
   "metadata": {},
   "outputs": [],
   "source": [
    "# clean all special charectors\n",
    "train['Review Text']= train['Review Text'].apply(clean_text) \n",
    "train['Review Title']= train['Review Title'].apply(clean_text)\n",
    "train.index = train['id']"
   ]
  },
  {
   "cell_type": "code",
   "execution_count": null,
   "metadata": {},
   "outputs": [],
   "source": [
    "X_train, X_test, y_train, y_test = train_test_split(train[['Review Text','Review Title']],train['Star Rating'],test_size=0.2, random_state=42)\n",
    "train_text1 = X_train['Review Text']\n",
    "train_text2 = X_train['Review Title']\n",
    "test_text1 = X_test['Review Text']\n",
    "test_text2 = X_test['Review Title']\n",
    "\n",
    "all_text=pd.concat([train_text1,train_text2,test_text1,test_text2])"
   ]
  },
  {
   "cell_type": "code",
   "execution_count": null,
   "metadata": {},
   "outputs": [],
   "source": [
    "def predict_one(x,y,xt):\n",
    "    \n",
    "    # Create logistic regression\n",
    "    logistic = LogisticRegression(n_jobs=10,solver='saga',multi_class='multinomial',class_weight='balanced')\n",
    "    # Create regularization penalty space\n",
    "    penalty = ['l1', 'l2']\n",
    "\n",
    "    # Create regularization hyperparameter distribution using uniform distribution\n",
    "    C = [1, 30]\n",
    "   \n",
    "    # Create hyperparameter options\n",
    "    hyperparameters = dict(C=C, penalty=penalty)\n",
    "   \n",
    "    \n",
    "    clf = GridSearchCV(logistic, hyperparameters, cv=5)\n",
    "    #clf = RandomizedSearchCV(logistic, hyperparameters, random_state=1, n_iter=100, cv=5, verbose=0, n_jobs=-1)\n",
    "    \n",
    "    # Fit randomized search\n",
    "    best_model = clf.fit(x, y)\n",
    "    y_pred = best_model.predict(xt)\n",
    "    \n",
    "    #y_pred = best_model.predict_prob(x)\n",
    "    #idx=list(best_model.classes_).index(1)\n",
    "    \n",
    "    print(best_model.best_estimator_.get_params())\n",
    "    return y_pred#[:,idx]\n",
    "    \n"
   ]
  },
  {
   "cell_type": "code",
   "execution_count": 255,
   "metadata": {},
   "outputs": [],
   "source": [
    "# initialize the word vectorizer\n",
    "word_vectorizer= TfidfVectorizer(\n",
    "    sublinear_tf=True,\n",
    "    strip_accents='unicode',\n",
    "    analyzer='word',\n",
    "    token_pattern=r'\\w{1,}',\n",
    "    stop_words='english',\n",
    "    ngram_range=(1,2),\n",
    "    max_features=100000)\n",
    "word_vectorizer.fit(all_text)\n",
    "\n",
    "train_word_features1  = word_vectorizer.transform(train_text1)\n",
    "train_word_features2  = word_vectorizer.transform(train_text2)\n",
    "\n",
    "test_word_features1  = word_vectorizer.transform(test_text1)\n",
    "test_word_features2  = word_vectorizer.transform(test_text2)"
   ]
  },
  {
   "cell_type": "code",
   "execution_count": 256,
   "metadata": {},
   "outputs": [],
   "source": [
    "# initialize the char vectorizer\n",
    "charector_vectorizer= TfidfVectorizer(\n",
    "    sublinear_tf=True,\n",
    "    strip_accents='unicode',\n",
    "    analyzer='char',\n",
    "    stop_words='english',\n",
    "    ngram_range=(2,6),\n",
    "    max_features=1000000)\n",
    "charector_vectorizer.fit(all_text)\n",
    "\n",
    "train_char_features1  = charector_vectorizer.transform(train_text1)\n",
    "train_char_features2  = charector_vectorizer.transform(train_text2)\n",
    "\n",
    "test_char_features1  = charector_vectorizer.transform(test_text1)\n",
    "test_char_features2  = charector_vectorizer.transform(test_text2)"
   ]
  },
  {
   "cell_type": "code",
   "execution_count": 257,
   "metadata": {},
   "outputs": [],
   "source": [
    "# stack the features\n",
    "train_char_features=hstack([train_char_features1, train_char_features2])\n",
    "test_char_features=hstack([test_char_features1,test_char_features2])\n",
    "\n",
    "train_word_features=hstack([train_word_features1,train_word_features2])\n",
    "test_word_features=hstack([test_word_features1,test_word_features2])\n",
    "\n",
    "\n",
    "train_features = hstack([train_char_features1, train_word_features1,train_char_features2, train_word_features2])\n",
    "test_features = hstack([test_char_features1, test_word_features1,test_char_features2, test_word_features2])\n",
    "\n"
   ]
  },
  {
   "cell_type": "code",
   "execution_count": 258,
   "metadata": {},
   "outputs": [],
   "source": [
    "sub_char = pd.DataFrame({'id': train['id']})\n",
    "sub_word = pd.DataFrame({'id': train['id']})\n",
    "sub_joint = pd.DataFrame({'id': train['id']})\n",
    "sub_mean = pd.DataFrame({'id': train['id']})\n",
    "sub_max = pd.DataFrame({'id': train['id']})\n",
    "y=y_train"
   ]
  },
  {
   "cell_type": "code",
   "execution_count": null,
   "metadata": {},
   "outputs": [],
   "source": [
    "y_pred_char = predict_one(train_char_features, y, test_char_features)\n",
    "y_pred_word = predict_one(train_word_features, y, test_word_features)\n",
    "y_pred_joint = predict_one(train_features, y, test_features)\n",
    "    "
   ]
  },
  {
   "cell_type": "code",
   "execution_count": null,
   "metadata": {},
   "outputs": [],
   "source": [
    "#for t in class_names:\n",
    "#    y = train1[t].values\n",
    "#    y_pred_char = predict_one(train_char_features, y, test_char_features)\n",
    "#    y_pred_word = predict_one(train_word_features, y, test_word_features)\n",
    "#    y_pred_joint = predict_one(train_features, y, test_features)\n",
    "    \n",
    "#    sub_char[t] = y_pred_char\n",
    "#    sub_word[t] = y_pred_word\n",
    "#    sub_joint[t] = y_pred_joint #best\n",
    "#   sub_mean[t] = 0.5 * (y_pred_char + y_pred_word)\n",
    "#    sub_max[t] = np.maximum(y_pred_char, y_pred_word)\n",
    "#    print('predict {}'.format(t))"
   ]
  },
  {
   "cell_type": "code",
   "execution_count": null,
   "metadata": {},
   "outputs": [],
   "source": [
    "print(f1_score(y_pred_char, y_test,average='weighted'))\n",
    "print(f1_score(y_pred_word, y_test,average='weighted'))\n",
    "print(f1_score(y_pred_joint, y_test,average='weighted'))"
   ]
  },
  {
   "cell_type": "code",
   "execution_count": null,
   "metadata": {},
   "outputs": [],
   "source": []
  }
 ],
 "metadata": {
  "kernelspec": {
   "display_name": "Python 3",
   "language": "python",
   "name": "python3"
  },
  "language_info": {
   "codemirror_mode": {
    "name": "ipython",
    "version": 3
   },
   "file_extension": ".py",
   "mimetype": "text/x-python",
   "name": "python",
   "nbconvert_exporter": "python",
   "pygments_lexer": "ipython3",
   "version": "3.7.3"
  }
 },
 "nbformat": 4,
 "nbformat_minor": 2
}
